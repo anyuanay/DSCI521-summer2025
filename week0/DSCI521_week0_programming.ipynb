{
  "cells": [
    {
      "cell_type": "markdown",
      "metadata": {
        "id": "view-in-github",
        "colab_type": "text"
      },
      "source": [
        "<a href=\"https://colab.research.google.com/github/anyuanay/DSCI521-summer2025/blob/main/week0/DSCI521_week0_programming.ipynb\" target=\"_parent\"><img src=\"https://colab.research.google.com/assets/colab-badge.svg\" alt=\"Open In Colab\"/></a>"
      ]
    },
    {
      "cell_type": "markdown",
      "metadata": {
        "id": "iAWavKBum-e4"
      },
      "source": [
        "# DSCI 521: Methods for analysis and interpretation<br>Chapter 0.2: Programming fundamentals"
      ]
    },
    {
      "cell_type": "markdown",
      "metadata": {
        "id": "LzFSNtZym-e6"
      },
      "source": [
        "## 0.2 Programming fundamentals\n",
        "If you do not have programming experience or are unfamiliar with the Python syntax, please consider following the (10 hr) online Python course from codecademy to get in the swing of things before week 1.\n",
        "\n",
        "- https://www.codecademy.com/learn/learn-python\n",
        "\n",
        "Note: some introduction to Python is provided in this notebook, but this is mostly just a fast/light refresher/introduction to some of the common commands we'll be using."
      ]
    },
    {
      "cell_type": "markdown",
      "metadata": {
        "id": "3BeHNYy5m-e6"
      },
      "source": [
        "### 0.2.1 How do Jupyter Notebooks work for Python development?\n",
        "\n",
        "Since these lectures notes are a Jupyter notebook with a Python kernel, this notebook is itself our Python development environment. Interacting with Jupyter for basic programming is straight forward. Commands are typed in code cells and executed by typing:\n",
        "\n",
        "> `<SHIFT> + <RETURN>`"
      ]
    },
    {
      "cell_type": "code",
      "execution_count": null,
      "metadata": {
        "id": "lOBxpl4jm-e7",
        "outputId": "ef7e22e6-dad1-4fb0-cec0-cd6864c49512"
      },
      "outputs": [
        {
          "name": "stdout",
          "output_type": "stream",
          "text": [
            "Hello world?\n"
          ]
        }
      ],
      "source": [
        "print(\"Hello world?\")"
      ]
    },
    {
      "cell_type": "markdown",
      "metadata": {
        "id": "g3lbJuGym-e8"
      },
      "source": [
        "Objects defined in one cell will persist in and be modified by subsequently executed cells:"
      ]
    },
    {
      "cell_type": "code",
      "execution_count": null,
      "metadata": {
        "collapsed": true,
        "id": "6cnCCRZOm-e8"
      },
      "outputs": [],
      "source": [
        "mystring = \"this is some text\""
      ]
    },
    {
      "cell_type": "code",
      "execution_count": null,
      "metadata": {
        "id": "LEptPyXxm-e8",
        "outputId": "6ec9b9bd-babe-4f87-cd16-b12d25195a05"
      },
      "outputs": [
        {
          "name": "stdout",
          "output_type": "stream",
          "text": [
            "this is some text\n"
          ]
        }
      ],
      "source": [
        "print(mystring)"
      ]
    },
    {
      "cell_type": "code",
      "execution_count": null,
      "metadata": {
        "collapsed": true,
        "id": "AAd0nMqsm-e8"
      },
      "outputs": [],
      "source": [
        "mystring = \"and \" + mystring + \" that I have added to the string\""
      ]
    },
    {
      "cell_type": "code",
      "execution_count": null,
      "metadata": {
        "id": "8HbiVM14m-e9",
        "outputId": "279de9ca-b257-485f-aedc-d4e53fbd69fd"
      },
      "outputs": [
        {
          "name": "stdout",
          "output_type": "stream",
          "text": [
            "and this is some text that I have added to the string\n"
          ]
        }
      ],
      "source": [
        "print(mystring)"
      ]
    },
    {
      "cell_type": "markdown",
      "metadata": {
        "id": "p2QjeVykm-e9"
      },
      "source": [
        "### 0.2.2 Python Programming\n",
        "\n",
        "Python is an object-oriented programming language with a light syntax that makes it easy to read. It's got lots of pre-developed libraries for quantitative analysis and visualization as well as lots of low-level function for system integration and data management.\n",
        "\n",
        "Your assignments in this course will require Python programming. However, varying degrees of experience are expected making independent learning of Python programming an expectation for the course. In addition to your instructor, Python programming resources for this course include:\n",
        "\n",
        "- Course textbooks: The Data Science Handbook, Data Science From Scratch, and the Python Data Science Handbook all provide python programing resources.\n",
        "- The docs: [Python's official documentationn](https://docs.python.org) is quite readable\n",
        "- Your classmates: All assignments will be group-based work. Collaborate and learn from each other.\n",
        "- Stackoverflow: A search in the help forums often produces best/quickest answer.\n",
        "\n",
        "Of our textbooks, Data Science From Scratch probably delivers the most on Python's fundementals, which we'll now follow.\n",
        "\n",
        "#### 0.2.2.1 Python's general formatting and code structure\n",
        "\n",
        "Python uses whitespace for formatting. Here's an example that loops over some integers, does some addition, and prints them out. Notice that indentation defines a command's depth in the loop:"
      ]
    },
    {
      "cell_type": "code",
      "execution_count": null,
      "metadata": {
        "id": "Bjwpe_dym-e9",
        "outputId": "56580c44-0e29-4afd-94ab-c8309f94993d"
      },
      "outputs": [
        {
          "name": "stdout",
          "output_type": "stream",
          "text": [
            "1\n",
            "1\n",
            "2\n",
            "2\n",
            "3\n",
            "3\n",
            "4\n",
            "4\n",
            "5\n",
            "5\n",
            "6\n",
            "1\n",
            "2\n",
            "1\n",
            "3\n",
            "2\n",
            "4\n",
            "3\n",
            "5\n",
            "4\n",
            "6\n",
            "5\n",
            "7\n",
            "2\n",
            "3\n",
            "1\n",
            "4\n",
            "2\n",
            "5\n",
            "3\n",
            "6\n",
            "4\n",
            "7\n",
            "5\n",
            "8\n",
            "3\n",
            "4\n",
            "1\n",
            "5\n",
            "2\n",
            "6\n",
            "3\n",
            "7\n",
            "4\n",
            "8\n",
            "5\n",
            "9\n",
            "4\n",
            "5\n",
            "1\n",
            "6\n",
            "2\n",
            "7\n",
            "3\n",
            "8\n",
            "4\n",
            "9\n",
            "5\n",
            "10\n",
            "5\n",
            "done looping\n"
          ]
        }
      ],
      "source": [
        "for i in [1, 2, 3, 4, 5]:\n",
        "    print(i) # first line in \"for i\" block\n",
        "    for j in [1, 2, 3, 4, 5]:\n",
        "        print(j) # first line in \"for j\" block\n",
        "        print(i + j) # last line in \"for j\" block\n",
        "    print(i) # last line in \"for i\" block\n",
        "print(\"done looping\")"
      ]
    },
    {
      "cell_type": "markdown",
      "metadata": {
        "id": "LGGb38Fjm-e9"
      },
      "source": [
        "Whitespace is ignored inside of parentheses and brackets, and backslashes continue lines:"
      ]
    },
    {
      "cell_type": "code",
      "execution_count": null,
      "metadata": {
        "id": "Mv6mNtWAm-e9",
        "outputId": "0a5015f1-5cb6-4c2c-e795-0f965a4225e7"
      },
      "outputs": [
        {
          "name": "stdout",
          "output_type": "stream",
          "text": [
            "210\n"
          ]
        }
      ],
      "source": [
        "long_winded_computation = (1 + 2 + 3 + 4 + 5 + 6 + 7 + 8 + 9 + 10 + 11 + 12 +\n",
        "                           13 + 14 + 15 + 16 + 17 + 18 + 19 + 20)\n",
        "print(long_winded_computation)"
      ]
    },
    {
      "cell_type": "markdown",
      "metadata": {
        "id": "KKYxBlZ7m-e-"
      },
      "source": [
        "\"blocking out\" statement allows you to see object structure"
      ]
    },
    {
      "cell_type": "code",
      "execution_count": null,
      "metadata": {
        "id": "5TU6I7rsm-e-",
        "outputId": "88f490ad-3eb0-4d8e-ec81-e0db911310ba"
      },
      "outputs": [
        {
          "name": "stdout",
          "output_type": "stream",
          "text": [
            "[[1, 2, 3], [4, 5, 6], [7, 8, 9]]\n",
            "[[1, 2, 3], [4, 5, 6], [7, 8, 9]]\n"
          ]
        }
      ],
      "source": [
        "list_of_lists = [[1, 2, 3], [4, 5, 6], [7, 8, 9]]\n",
        "\n",
        "print(list_of_lists)\n",
        "\n",
        "easier_to_read_list_of_lists = [\n",
        "    [1, 2, 3],\n",
        "    [4, 5, 6],\n",
        "    [7, 8, 9]\n",
        "]\n",
        "\n",
        "print(easier_to_read_list_of_lists)"
      ]
    },
    {
      "cell_type": "markdown",
      "metadata": {
        "id": "armah7BRm-e-"
      },
      "source": [
        "Sometimes there are no whitespace-ignoring parentheses and Python needs to be told that the statement is not over:"
      ]
    },
    {
      "cell_type": "code",
      "execution_count": null,
      "metadata": {
        "id": "VVFXpskEm-e-",
        "outputId": "f892d94f-7bef-452b-8fa2-24a2ab028185"
      },
      "outputs": [
        {
          "name": "stdout",
          "output_type": "stream",
          "text": [
            "4\n"
          ]
        }
      ],
      "source": [
        "two_plus_two_is = 2 +\\\n",
        "2\n",
        "print(two_plus_two_is)"
      ]
    },
    {
      "cell_type": "markdown",
      "metadata": {
        "id": "w5k9Es3Fm-e-"
      },
      "source": [
        "### 0.2.3 Data types\n",
        "There modules that allow Python to represent very complex and specific data structures, like images. The default data structures in Python include the classics: integers, floating point numbers, string, and ordered and associative arrays. But there are also some nice alternatives for mutability.\n",
        "\n",
        "#### 0.2.3.1 Mutability\n",
        "This refers to the indirect changability of an object. For example, we can define a list of numbers and change one entry on its own:"
      ]
    },
    {
      "cell_type": "code",
      "execution_count": null,
      "metadata": {
        "id": "vNwT4YNim-e-",
        "outputId": "3539dd9c-75e4-4ac3-9dd6-5bdc687087c0"
      },
      "outputs": [
        {
          "name": "stdout",
          "output_type": "stream",
          "text": [
            "[0, 1, 2, 3, 4]\n",
            "[0, 1, 'z', 3, 4]\n"
          ]
        }
      ],
      "source": [
        "## defining the list of five indices\n",
        "first_five_indices = list(range(5))\n",
        "print(first_five_indices)\n",
        "\n",
        "## changing the 3rd entry to the string \"z\"\n",
        "\n",
        "first_five_indices[2] = \"z\"\n",
        "print(first_five_indices)"
      ]
    },
    {
      "cell_type": "markdown",
      "metadata": {
        "id": "LY7l5jKHm-e-"
      },
      "source": [
        "While a string is technically a special type of list in Python, it is an immutable object type. So we will not be able to change the value of a string!"
      ]
    },
    {
      "cell_type": "code",
      "execution_count": null,
      "metadata": {
        "id": "5IpAxrBMm-e-",
        "outputId": "ebf00212-a511-4445-aff0-f07a327fc562"
      },
      "outputs": [
        {
          "name": "stdout",
          "output_type": "stream",
          "text": [
            "o\n"
          ]
        },
        {
          "ename": "TypeError",
          "evalue": "'str' object does not support item assignment",
          "output_type": "error",
          "traceback": [
            "\u001b[0;31m---------------------------------------------------------------------------\u001b[0m",
            "\u001b[0;31mTypeError\u001b[0m                                 Traceback (most recent call last)",
            "\u001b[0;32m<ipython-input-11-76f1db756201>\u001b[0m in \u001b[0;36m<module>\u001b[0;34m()\u001b[0m\n\u001b[1;32m      1\u001b[0m \u001b[0ma_silly_string\u001b[0m \u001b[0;34m=\u001b[0m \u001b[0;34m\"one fish two fish red fish blue fish\"\u001b[0m\u001b[0;34m\u001b[0m\u001b[0m\n\u001b[1;32m      2\u001b[0m \u001b[0mprint\u001b[0m\u001b[0;34m(\u001b[0m\u001b[0ma_silly_string\u001b[0m\u001b[0;34m[\u001b[0m\u001b[0;36m0\u001b[0m\u001b[0;34m]\u001b[0m\u001b[0;34m)\u001b[0m\u001b[0;34m\u001b[0m\u001b[0m\n\u001b[0;32m----> 3\u001b[0;31m \u001b[0ma_silly_string\u001b[0m\u001b[0;34m[\u001b[0m\u001b[0;36m0\u001b[0m\u001b[0;34m]\u001b[0m \u001b[0;34m=\u001b[0m \u001b[0;34m\"z\"\u001b[0m\u001b[0;34m\u001b[0m\u001b[0m\n\u001b[0m",
            "\u001b[0;31mTypeError\u001b[0m: 'str' object does not support item assignment"
          ]
        }
      ],
      "source": [
        "a_silly_string = \"one fish two fish red fish blue fish\"\n",
        "print(a_silly_string[0])\n",
        "a_silly_string[0] = \"z\""
      ]
    },
    {
      "cell_type": "markdown",
      "metadata": {
        "id": "RO74Q_NMm-e-"
      },
      "source": [
        "### 0.2.4 Basic immutable data types\n",
        "In addition to strings, floats and integers are also immutable:\n",
        "\n",
        "- `str()`: delimited by double- or single-quotes, these generally represent text\n",
        "- `int()`: delimited by any number without a decimal point, integers are negative & positive counting numbers\n",
        "- `float()`: delimited by any number witha decimal point, these are used in calculations\n",
        "\n",
        "Objects of these types are often defined through arithmetic on other existing variables, and a number of characters have to be 'escaped' (e.g., `\"\\\"\"` for double quote) to be represented as strings."
      ]
    },
    {
      "cell_type": "code",
      "execution_count": null,
      "metadata": {
        "id": "tf9ORcEcm-e-",
        "outputId": "7accc9c4-72c9-44db-a67e-d8fdb88a1be6"
      },
      "outputs": [
        {
          "name": "stdout",
          "output_type": "stream",
          "text": [
            "\"\"\n",
            "\"\"\n",
            "\"one fish two fish red fish blue fish another fish\"\n",
            "\n",
            "0\n",
            "0\n",
            "7\n",
            "\n"
          ]
        }
      ],
      "source": [
        "## defining some strings\n",
        "empty_string = str()\n",
        "print(\"\\\"\"+empty_string+\"\\\"\")\n",
        "other_empty_string = \"\"\n",
        "print(\"\\\"\"+other_empty_string+\"\\\"\")\n",
        "a_silly_string_example = a_silly_string + \" another fish\"\n",
        "print(\"\\\"\"+a_silly_string_example+\"\\\"\")\n",
        "\n",
        "print(\"\")\n",
        "## defining some ints\n",
        "zero = int()\n",
        "print(zero)\n",
        "other_zero = 0\n",
        "print(other_zero)\n",
        "seven = other_zero + 7\n",
        "print(seven)\n",
        "print(\"\")"
      ]
    },
    {
      "cell_type": "markdown",
      "metadata": {
        "id": "GxKMI5Hgm-e_"
      },
      "source": [
        "### 0.2.5 `list`s: mutable ordered arrays\n",
        "Ordered arrays are data structures that are indexed by integers. When defined, each index points to s specified object. Notably, lists are mutable."
      ]
    },
    {
      "cell_type": "code",
      "execution_count": null,
      "metadata": {
        "id": "mNpBB_7Gm-e_",
        "outputId": "09ade637-f52d-413f-dc28-351d3d2fb65a"
      },
      "outputs": [
        {
          "name": "stdout",
          "output_type": "stream",
          "text": [
            "[]\n",
            "[]\n",
            "[1, 2, 3, 4]\n",
            "[[1, 2, 3, 4], [5, 6, 7, 8], [9, 10, 11, 12]]\n"
          ]
        }
      ],
      "source": [
        "## defining some lists\n",
        "empty_list = list()\n",
        "print(empty_list)\n",
        "\n",
        "other_empty_list = []\n",
        "print(other_empty_list)\n",
        "\n",
        "list_of_numbers = [1,2,3,4]\n",
        "print(list_of_numbers)\n",
        "\n",
        "list_of_lists_of_numbers = [\n",
        "    [1,2,3,4],\n",
        "    [5,6,7,8],\n",
        "    [9,10,11,12]\n",
        "]\n",
        "print(list_of_lists_of_numbers)"
      ]
    },
    {
      "cell_type": "markdown",
      "metadata": {
        "id": "iQE5LE02m-e_"
      },
      "source": [
        "#### 0.2.5.1 `list` slicing\n",
        "Lists can be _sliced_ to retrieve several values in a row. Note that `list` indexing starts at 0, and that slicing ends with the index larger than the last element desired."
      ]
    },
    {
      "cell_type": "code",
      "execution_count": null,
      "metadata": {
        "id": "wWDHxZ4Hm-e_",
        "outputId": "ceb589aa-78e0-4cca-9ca1-363749036753"
      },
      "outputs": [
        {
          "name": "stdout",
          "output_type": "stream",
          "text": [
            "[1, 2]\n",
            "[10, 2]\n",
            "[10, 2, 3, 4]\n"
          ]
        }
      ],
      "source": [
        "list_of_numbers = [1,2,3,4]\n",
        "\n",
        "## slicing out the first two numbers from the list\n",
        "first_two = list_of_numbers[0:2]\n",
        "print(first_two)\n",
        "\n",
        "## changing the first element of the sliced list\n",
        "first_two[0] = 10\n",
        "print(first_two)\n",
        "\n",
        "## since lists are mutable, we can replace just the first half of the original list!\n",
        "list_of_numbers[0:2] = first_two\n",
        "print(list_of_numbers)"
      ]
    },
    {
      "cell_type": "markdown",
      "metadata": {
        "id": "qZnFpwUjm-e_"
      },
      "source": [
        "#### 0.2.5.2 Reverse indexing\n",
        "`list`s can be indexed backwardsly. This means that you can use negative values to go through a list in reverse."
      ]
    },
    {
      "cell_type": "code",
      "execution_count": null,
      "metadata": {
        "id": "a0CTib-qm-e_",
        "outputId": "eea63271-3d10-496f-effc-74b8e2a80ad8"
      },
      "outputs": [
        {
          "name": "stdout",
          "output_type": "stream",
          "text": [
            "4\n",
            "4\n",
            "[3, 4]\n"
          ]
        }
      ],
      "source": [
        "## for a list of length N's list indices: N - 1 == -1, N - 2 == -2, ..., N - N == 0\n",
        "print(list_of_numbers[3])\n",
        "last_digit = list_of_numbers[-1]\n",
        "print(last_digit)\n",
        "\n",
        "## this is very helpful for slicing the tail off of a list\n",
        "last_two = list_of_numbers[-2:] # leaving the endpoint blank slices through the end\n",
        "print(last_two)"
      ]
    },
    {
      "cell_type": "markdown",
      "metadata": {
        "id": "jWkdP2XNm-e_"
      },
      "source": [
        "#### 0.2.5.3 Packing\n",
        "You can unpack lists if you place names for their concents. This comes in handy when you want to iterate over groups of elements."
      ]
    },
    {
      "cell_type": "code",
      "execution_count": null,
      "metadata": {
        "id": "P9ECN02Om-e_",
        "outputId": "4c1ad441-0104-4a5c-f24f-b62f3f4c2f91"
      },
      "outputs": [
        {
          "name": "stdout",
          "output_type": "stream",
          "text": [
            "10\n",
            "4\n"
          ]
        }
      ],
      "source": [
        "## one of these might have been modified!!\n",
        "one, two, three, four = list_of_numbers\n",
        "print(one)\n",
        "print(four)"
      ]
    },
    {
      "cell_type": "markdown",
      "metadata": {
        "id": "zPiw7oa2m-e_"
      },
      "source": [
        "#### 0.2.5.4 Modifying lists\n",
        "Since they're mutable, `list`s are often extended or appended to. The `.append()` methods adds an element to the end of a list\n",
        "and the `.extend()` method incorporates a slice of elements to the end of a list."
      ]
    },
    {
      "cell_type": "code",
      "execution_count": null,
      "metadata": {
        "id": "SQFf05sfm-e_",
        "outputId": "ee70408d-9640-4abc-abb3-a37d3e9d27e0"
      },
      "outputs": [
        {
          "name": "stdout",
          "output_type": "stream",
          "text": [
            "[1, 2, 3, 4, 5, 6]\n",
            "[1, 2, 3, 4, 5, 6, 7]\n",
            "[1, 2, 3, 4, 5, 6, 7, 9, 10]\n"
          ]
        }
      ],
      "source": [
        "## appending to an extending some more lists numbers\n",
        "some_more_numbers = [1,2,3,4,5,6]\n",
        "print(some_more_numbers)\n",
        "\n",
        "some_more_numbers.append(7)\n",
        "print(some_more_numbers)\n",
        "\n",
        "some_more_numbers.extend([9,10])\n",
        "print(some_more_numbers)"
      ]
    },
    {
      "cell_type": "markdown",
      "metadata": {
        "id": "X7EfeQPSm-e_"
      },
      "source": [
        "### 0.2.6 Dictionaries: mutable associative arrays\n",
        "Like lists, dictionaries hold multiple values, but are indexed by a greater variety of data structures. Instead of just integers, dictioanries can be indexed by any immutable data structures, such as strings and floats. This means that it's not just important what the values are, but likewise the keys (indices) that get you the values."
      ]
    },
    {
      "cell_type": "code",
      "execution_count": null,
      "metadata": {
        "id": "3YCFxq5Sm-e_",
        "outputId": "0b16365b-1873-4dbf-e18e-4a14e30e021e"
      },
      "outputs": [
        {
          "name": "stdout",
          "output_type": "stream",
          "text": [
            "{}\n",
            "{}\n",
            "\n",
            "{1: 'one', 2: 'two', 3: 'three', 4: 'four'}\n",
            "three\n",
            "\n",
            "{'first': [1, 2, 3, 4], 'second': [5, 6, 7, 8], 'third': [9, 10, 11, 12]}\n",
            "[1, 2, 3, 4]\n"
          ]
        }
      ],
      "source": [
        "## defining some dictionaries\n",
        "empty_dict = dict()\n",
        "print(empty_dict)\n",
        "other_empty_dict = {}\n",
        "print(other_empty_dict)\n",
        "print(\"\")\n",
        "\n",
        "dict_of_number_names = {1: \"one\", 2: \"two\", 3: \"three\", 4: \"four\"}\n",
        "print(dict_of_number_names)\n",
        "print(dict_of_number_names[3])\n",
        "print(\"\")\n",
        "\n",
        "dict_of_lists_of_four_numbers = {\n",
        "    \"first\": [1,2,3,4],\n",
        "    \"second\": [5,6,7,8],\n",
        "    \"third\": [9,10,11,12]\n",
        "}\n",
        "print(dict_of_lists_of_four_numbers)\n",
        "print(dict_of_lists_of_four_numbers[\"first\"])"
      ]
    },
    {
      "cell_type": "markdown",
      "metadata": {
        "id": "QcocpIAgm-e_"
      },
      "source": [
        "#### 0.2.6.1 Specialized dictionaries\n",
        "Two functions from the `collections` module: `defaultdict()` and `Counter()` spawn nice versions of dictionaries with pre-set default values.\n",
        "We'll use these more later. Note how defaultdict is well-utilized by lambda functions to set default values."
      ]
    },
    {
      "cell_type": "code",
      "execution_count": null,
      "metadata": {
        "id": "2hjHLucJm-e_",
        "outputId": "c94aa42b-8c1a-45ef-c1fa-1cd1ee9c1ef8"
      },
      "outputs": [
        {
          "name": "stdout",
          "output_type": "stream",
          "text": [
            "2\n",
            "\n"
          ]
        },
        {
          "data": {
            "text/plain": [
              "['g', 'f']"
            ]
          },
          "execution_count": 19,
          "metadata": {},
          "output_type": "execute_result"
        }
      ],
      "source": [
        "## these don't come in Python by default\n",
        "from collections import defaultdict, Counter\n",
        "\n",
        "## define an empty Counter() object\n",
        "character_counts = Counter()\n",
        "chars = \";kbagkbafgsdfbk\"\n",
        "\n",
        "for char in chars:\n",
        "    character_counts[char] += 1 # the `+=` idiom is a short way to code incrementation\n",
        "print(character_counts[\"a\"])\n",
        "print(\"\")\n",
        "\n",
        "## define a defaultdict() that defaults to a list\n",
        "sebsequent_characters = defaultdict(lambda : []) ## note that there is no input:\n",
        "##                                                 all unknown inputs lead to empty list output\n",
        "\n",
        "for i, char in enumerate(chars): # Here' we've unpacked enumerate's index-element pairs during iteration\n",
        "    if i:\n",
        "        sebsequent_characters[chars[i-1]].append(char)\n",
        "\n",
        "sebsequent_characters[\"a\"]"
      ]
    },
    {
      "cell_type": "markdown",
      "metadata": {
        "id": "cneTSqu0m-fA"
      },
      "source": [
        "### 0.2.7 Tuples: immutable ordered arrays\n",
        "Tuples look and function a lot like lists, but are immutable. This means they can be used as dictionary keys!"
      ]
    },
    {
      "cell_type": "code",
      "execution_count": null,
      "metadata": {
        "id": "R-TcRjdpm-fA",
        "outputId": "ed310da8-9e12-4ecc-88d8-10e421d8098b"
      },
      "outputs": [
        {
          "name": "stdout",
          "output_type": "stream",
          "text": [
            "()\n",
            "()\n",
            "(1, 2, 3, 4)\n",
            "\n"
          ]
        },
        {
          "ename": "TypeError",
          "evalue": "'tuple' object does not support item assignment",
          "output_type": "error",
          "traceback": [
            "\u001b[0;31m---------------------------------------------------------------------------\u001b[0m",
            "\u001b[0;31mTypeError\u001b[0m                                 Traceback (most recent call last)",
            "\u001b[0;32m<ipython-input-20-8b777ec74673>\u001b[0m in \u001b[0;36m<module>\u001b[0;34m()\u001b[0m\n\u001b[1;32m      9\u001b[0m \u001b[0;34m\u001b[0m\u001b[0m\n\u001b[1;32m     10\u001b[0m \u001b[0;31m## you can't modify the elements of a tuple!\u001b[0m\u001b[0;34m\u001b[0m\u001b[0;34m\u001b[0m\u001b[0m\n\u001b[0;32m---> 11\u001b[0;31m \u001b[0mfirst_four_tuple\u001b[0m\u001b[0;34m[\u001b[0m\u001b[0;36m0\u001b[0m\u001b[0;34m]\u001b[0m \u001b[0;34m=\u001b[0m \u001b[0;36m10\u001b[0m\u001b[0;34m\u001b[0m\u001b[0m\n\u001b[0m",
            "\u001b[0;31mTypeError\u001b[0m: 'tuple' object does not support item assignment"
          ]
        }
      ],
      "source": [
        "## tuples are defined using round parentheses\n",
        "empty_tuple = tuple()\n",
        "print(empty_tuple)\n",
        "other_empty_tuple = ()\n",
        "print(other_empty_tuple)\n",
        "first_four_tuple = (1,2,3,4)\n",
        "print(first_four_tuple)\n",
        "print(\"\")\n",
        "\n",
        "## you can't modify the elements of a tuple!\n",
        "first_four_tuple[0] = 10"
      ]
    },
    {
      "cell_type": "markdown",
      "metadata": {
        "id": "2YULvLYCm-fF"
      },
      "source": [
        "### 0.2.8 Sets: unordered collections of  unique elements\n",
        "Sets are mutable and keep track only of the variety of objects they hold. If iterated upon, element order is system determined."
      ]
    },
    {
      "cell_type": "code",
      "execution_count": null,
      "metadata": {
        "id": "ZvdbTiKdm-fF",
        "outputId": "0f3efa27-13db-4648-be94-1ac8bcf2a12b"
      },
      "outputs": [
        {
          "name": "stdout",
          "output_type": "stream",
          "text": [
            "set()\n",
            "{}\n",
            "{1, 2, 3, 4}\n"
          ]
        }
      ],
      "source": [
        "## set also use curly braces, but have no values\n",
        "empty_set = set()\n",
        "print(empty_set)\n",
        "empty_dict = {}\n",
        "print(empty_dict)\n",
        "first_four_set = {1,2,3,4}\n",
        "print(first_four_set)"
      ]
    },
    {
      "cell_type": "markdown",
      "metadata": {
        "id": "b1r91nyEm-fF"
      },
      "source": [
        "#### 0.2.8.1 modifying `set`s\n",
        "Like `list()`'s `.append()` and `.extend()`, sets have the `.add()` and `.remove()` methods to manage contents."
      ]
    },
    {
      "cell_type": "code",
      "execution_count": null,
      "metadata": {
        "id": "bVJ3HHzwm-fF",
        "outputId": "73172475-7397-4c8b-fed0-8a15d8e00d02"
      },
      "outputs": [
        {
          "name": "stdout",
          "output_type": "stream",
          "text": [
            "{1, 2, 3, 4}\n",
            "{1, 2, 3, 4, 5}\n",
            "{1, 2, 3, 4, 5}\n",
            "{2, 3, 4, 5}\n"
          ]
        }
      ],
      "source": [
        "first_four_set = {1,2,3,4}\n",
        "print(first_four_set)\n",
        "first_four_set.add(5)\n",
        "print(first_four_set)\n",
        "first_four_set.add(4) # note that adding an existing element does nothing\n",
        "print(first_four_set)\n",
        "first_four_set.remove(1)\n",
        "print(first_four_set)"
      ]
    },
    {
      "cell_type": "markdown",
      "metadata": {
        "id": "Vi028u_Im-fF"
      },
      "source": [
        "#### 0.2.8.2 `set()` operations\n",
        "Python's `set`s are generally made to reflect the behavior of mathematical sets. This means there are some very nice quantitative operations, like the `.union()`, `.intersection()`, and `.difference()` methods."
      ]
    },
    {
      "cell_type": "code",
      "execution_count": null,
      "metadata": {
        "id": "kWkGxvBGm-fF",
        "outputId": "9a5fb5e5-4f55-46ba-9094-95dbc35836a1"
      },
      "outputs": [
        {
          "name": "stdout",
          "output_type": "stream",
          "text": [
            "{2, 4}\n",
            "{3, 5}\n"
          ]
        }
      ],
      "source": [
        "print(first_four_set.intersection({1,2,4}))\n",
        "print(first_four_set.difference({1,2,4}))"
      ]
    },
    {
      "cell_type": "markdown",
      "metadata": {
        "id": "21mH_N4Lm-fF"
      },
      "source": [
        "### 0.2.9 Object comprehensions: succicnt definitions and transformations\n",
        "Frequently, you’ll want to transform a list into another list, by choosing only certain\n",
        "elements, or by transforming elements, or both. Some example list comprehensions are:"
      ]
    },
    {
      "cell_type": "code",
      "execution_count": null,
      "metadata": {
        "id": "00n4ITl6m-fF",
        "outputId": "058f50ba-ee9e-41bb-c06e-6c9df0737d6d"
      },
      "outputs": [
        {
          "name": "stdout",
          "output_type": "stream",
          "text": [
            "range(0, 5)\n",
            "[0, 1, 4, 9, 16]\n"
          ]
        }
      ],
      "source": [
        "## making a list of the squared indices\n",
        "\n",
        "first_five_indices = range(5)\n",
        "print(first_five_indices)\n",
        "\n",
        "## syntax: [<VALUE> for <ELEMENT> in <ITERABLE>]\n",
        "squares = [x * x for x in first_five_indices] # note: x is a dummy variable\n",
        "print(squares)"
      ]
    },
    {
      "cell_type": "markdown",
      "metadata": {
        "id": "eiSiImCSm-fF"
      },
      "source": [
        "#### 0.2.9.1 Basic comprehension syntax\n",
        "You can also use comprehensions for dictionaries, sets, and tuples.\n",
        "The name of the game is just to use the appropriate brackets/parentheses and syntax!"
      ]
    },
    {
      "cell_type": "code",
      "execution_count": null,
      "metadata": {
        "id": "fdpLk9_Zm-fF",
        "outputId": "423ef920-5b5d-4558-b8c4-082831b538b4"
      },
      "outputs": [
        {
          "name": "stdout",
          "output_type": "stream",
          "text": [
            "{0: 0, 1: 1, 2: 4, 3: 9, 4: 16}\n",
            "{0, 1, 4, 9, 16}\n"
          ]
        }
      ],
      "source": [
        "\n",
        "first_five_indices = range(5)\n",
        "\n",
        "square_dict = { x : x * x for x in first_five_indices }\n",
        "print(square_dict)\n",
        "square_set = { x * x for x in first_five_indices }\n",
        "print(square_set)"
      ]
    },
    {
      "cell_type": "markdown",
      "metadata": {
        "id": "akLXKH68m-fF"
      },
      "source": [
        "### 0.2.10 Looping over collections\n",
        "#### 0.2.10.1 Iteration\n",
        "Iteration is performed by Python's `for` statement applied to iterable objects. In Python, these include:\n",
        "\n",
        "- lists, in the ordered array's set order\n",
        "- generators, in the order of generation\n",
        "- strings, in the order of their characters\n",
        "- dictionaries, in a system-defined order of their keys\n",
        "- sets, in a system-defined order of their elements"
      ]
    },
    {
      "cell_type": "code",
      "execution_count": null,
      "metadata": {
        "scrolled": true,
        "id": "rRXtPVBom-fG",
        "outputId": "533383ee-85ca-49c4-bbb1-5978665db502"
      },
      "outputs": [
        {
          "name": "stdout",
          "output_type": "stream",
          "text": [
            "o\n",
            "n\n",
            "e\n",
            " \n",
            "f\n",
            "i\n",
            "s\n",
            "h\n",
            " \n",
            "t\n",
            "w\n",
            "o\n",
            " \n",
            "f\n",
            "i\n",
            "s\n",
            "h\n",
            " \n",
            "r\n",
            "e\n",
            "d\n",
            " \n",
            "f\n",
            "i\n",
            "s\n",
            "h\n",
            " \n",
            "b\n",
            "l\n",
            "u\n",
            "e\n",
            " \n",
            "f\n",
            "i\n",
            "s\n",
            "h\n"
          ]
        }
      ],
      "source": [
        "## syntax: for <ELEMENT> in <ITERABLE>:\n",
        "\n",
        "for char in a_silly_string:\n",
        "    print(char)"
      ]
    },
    {
      "cell_type": "markdown",
      "metadata": {
        "id": "vidJqouCm-fG"
      },
      "source": [
        "#### 0.2.10.2 Enumerating the items of an iterable object\n",
        "Calling `enumerate()` on an iterable object produces pairs of the items and their indices."
      ]
    },
    {
      "cell_type": "code",
      "execution_count": null,
      "metadata": {
        "scrolled": true,
        "id": "ioiXSayUm-fG",
        "outputId": "ce023f9d-2df0-41b7-b41e-2f6ada418d32"
      },
      "outputs": [
        {
          "name": "stdout",
          "output_type": "stream",
          "text": [
            "(0, 'o')\n",
            "(1, 'n')\n",
            "(2, 'e')\n",
            "(3, ' ')\n",
            "(4, 'f')\n",
            "(5, 'i')\n",
            "(6, 's')\n",
            "(7, 'h')\n",
            "(8, ' ')\n",
            "(9, 't')\n",
            "(10, 'w')\n",
            "(11, 'o')\n",
            "(12, ' ')\n",
            "(13, 'f')\n",
            "(14, 'i')\n",
            "(15, 's')\n",
            "(16, 'h')\n",
            "(17, ' ')\n",
            "(18, 'r')\n",
            "(19, 'e')\n",
            "(20, 'd')\n",
            "(21, ' ')\n",
            "(22, 'f')\n",
            "(23, 'i')\n",
            "(24, 's')\n",
            "(25, 'h')\n",
            "(26, ' ')\n",
            "(27, 'b')\n",
            "(28, 'l')\n",
            "(29, 'u')\n",
            "(30, 'e')\n",
            "(31, ' ')\n",
            "(32, 'f')\n",
            "(33, 'i')\n",
            "(34, 's')\n",
            "(35, 'h')\n"
          ]
        }
      ],
      "source": [
        "for index_char in enumerate(a_silly_string):\n",
        "    print(index_char)"
      ]
    },
    {
      "cell_type": "markdown",
      "metadata": {
        "id": "0-1Vs8-sm-fG"
      },
      "source": [
        "### 0.2.11 Modules\n",
        "Part of the Python appeal at this point is the wealth of well-constructed code libraries, or, modules. These allow programmers to stand on each others' shoulders and save time on code re-creation.\n",
        "\n",
        "Many Python features don't exist by default. Python can only do basic arithmatic and has limited string (text) manipulation to start. Modules that help with these issues are `numpy` and `re`. Most of what we'll be working on in this course and DSCI 521 will be done using the following modules: `numpy`, `re`, `sys`, `os`, `scipy`, `pandas`, `PIL`, `matplotlib`, `ipython`, `datetime`, `bs4`, and `requests`. There are probably some others, but we'll get to these on the fly.\n",
        "\n",
        "Some modules won't come with your Python distribution. So, if you try and run code and a module, e.g., `numpy` doesn't exist, what can you do? Use a package manager to download modules from your computer's command line. If you needed to download numpy using either of the Python Package Index (`pip`) or Anaconda (`conda`), you would execute one of the following commands:\n",
        "\n",
        "> `>>> pip install numpy` <br>\n",
        "> `>>> conda install numpy`\n",
        "\n",
        "Note: if you have set up Python from multiple sources and/or are downloading modules from multiple sources you might have to configure your `PYTHONPATH` command-line variable to make sure that your system looks for/loads modules from the correct places and in the correct order. This works just like the `PATH` variables discussed in the blog post on command line system configuration (in section 1, above):\n",
        "\n",
        "- https://natelandau.com/my-mac-osx-bash_profile/\n",
        "\n",
        "Once again, even though this post is about someone's Mac, the general concepts of profiles, `PATH` variables, alias', and hidden files should all translate, regardless of operating systems and shells.\n",
        "\n",
        "#### 0.2.11.1 Example 1: `numpy`\n",
        "This module turns Python into an excellent calculator. It means your can calculate averages and many, many more complex numerical tasks with abstracted commands and less control structure."
      ]
    },
    {
      "cell_type": "code",
      "execution_count": null,
      "metadata": {
        "id": "aIHyjR0Cm-fG",
        "outputId": "1d615a90-6524-49c2-cb5e-02e5346b37be"
      },
      "outputs": [
        {
          "name": "stdout",
          "output_type": "stream",
          "text": [
            "2.0\n",
            "2.0\n"
          ]
        }
      ],
      "source": [
        "## it often helps to shorten the names of your modules\n",
        "import numpy as np\n",
        "\n",
        "first_five_indices = range(5) # range is a built-function that makes integers\n",
        "\n",
        "## computing an average the old-fashioned way\n",
        "average = 0\n",
        "for number in first_five_indices:\n",
        "    average = average + number\n",
        "average = average / float(len(first_five_indices))\n",
        "\n",
        "print(average)\n",
        "\n",
        "## using numpy's mean function\n",
        "print(np.mean(first_five_indices))"
      ]
    },
    {
      "cell_type": "markdown",
      "metadata": {
        "id": "UpWyH7-nm-fG"
      },
      "source": [
        "#### 0.2.11.2 Example 2: `regex`\n",
        "This module turns Python into an excellent string (text) manipulator. This means that `regex` adds capability for things like pattern searching and replacing.\n",
        "\n",
        "Note: regex is a Python 3 specific module offering improvements over the `re` legacy module, levt over from Python 2. For most task `re` does fine, but `regex` can do a few nice extra things, like character class modification. For simplicity, we'll `import regex as re` whenever we're using it."
      ]
    },
    {
      "cell_type": "code",
      "execution_count": null,
      "metadata": {
        "id": "RZBLIV5zm-fG",
        "outputId": "eee95e1f-392e-4612-e295-61598744b37c"
      },
      "outputs": [
        {
          "name": "stdout",
          "output_type": "stream",
          "text": [
            "one fish two fish red fish blue fish\n",
            "one fish blue fish\n"
          ]
        }
      ],
      "source": [
        "import regex as re\n",
        "\n",
        "a_silly_string = \"one fish two fish red fish blue fish\"\n",
        "print(a_silly_string)\n",
        "\n",
        "## removing blue fish from the picture\n",
        "only_one_fish_left = re.sub(\" (two|red) fish\",\"\",a_silly_string)\n",
        "print(only_one_fish_left)"
      ]
    },
    {
      "cell_type": "markdown",
      "metadata": {
        "id": "nhkFeN2am-fG"
      },
      "source": [
        "### 0.2.12 Functions\n",
        "\n",
        "#### 0.2.12.1 Explicit functions\n",
        "A function is a rule for taking zero or more inputs and returning a corresponding output. A common way to define functions is `def`:"
      ]
    },
    {
      "cell_type": "code",
      "execution_count": null,
      "metadata": {
        "collapsed": true,
        "id": "tRLMiR1vm-fG"
      },
      "outputs": [],
      "source": [
        "def double(x):\n",
        "    \"\"\"this is where you put an optional docstring\n",
        "    that explains what the function does.\n",
        "    for example, this function multiplies its input by 2\"\"\"\n",
        "    return x * 2"
      ]
    },
    {
      "cell_type": "code",
      "execution_count": null,
      "metadata": {
        "id": "6k3R6OJCm-fG",
        "outputId": "f3267f1f-b3a6-4879-ea97-10528933fc35"
      },
      "outputs": [
        {
          "name": "stdout",
          "output_type": "stream",
          "text": [
            "this is what happens when you double a number:\n",
            "4\n",
            "\n",
            "this is what happens when you double a string:\n",
            "haha\n",
            "\n",
            "this is what happens when you double a list:\n",
            "[4, 'haha', 4, 'haha']\n",
            "\n"
          ]
        }
      ],
      "source": [
        "print(\"this is what happens when you double a number:\")\n",
        "print(double(2))\n",
        "print(\"\")\n",
        "print(\"this is what happens when you double a string:\")\n",
        "print(double(\"ha\"))\n",
        "print(\"\")\n",
        "print(\"this is what happens when you double a list:\")\n",
        "print(double([4,\"haha\"]))\n",
        "print(\"\")"
      ]
    },
    {
      "cell_type": "markdown",
      "metadata": {
        "id": "KuET2Q7am-fG"
      },
      "source": [
        "Functions can have preset values:"
      ]
    },
    {
      "cell_type": "code",
      "execution_count": null,
      "metadata": {
        "collapsed": true,
        "id": "jDp5rdwYm-fG"
      },
      "outputs": [],
      "source": [
        "def double(x=\"trouble!\"):\n",
        "    \"\"\"this is where you put an optional docstring\n",
        "    that explains what the function does.\n",
        "    for example, this function multiplies its input by 2\"\"\"\n",
        "    return x * 2"
      ]
    },
    {
      "cell_type": "code",
      "execution_count": null,
      "metadata": {
        "id": "UNgNIMPLm-fG",
        "outputId": "c01ac1db-0983-40ac-eb00-e994caa90f72"
      },
      "outputs": [
        {
          "name": "stdout",
          "output_type": "stream",
          "text": [
            "this is what happens when you double a number:\n",
            "4\n",
            "\n",
            "this is what happens when you nothing:\n",
            "trouble!trouble!\n",
            "\n"
          ]
        }
      ],
      "source": [
        "print(\"this is what happens when you double a number:\")\n",
        "print(double(2))\n",
        "print(\"\")\n",
        "print(\"this is what happens when you nothing:\")\n",
        "print(double())\n",
        "print(\"\")"
      ]
    },
    {
      "cell_type": "markdown",
      "metadata": {
        "id": "tpC7csZ8m-fH"
      },
      "source": [
        "#### 0.2.12.2 Anonymous (lambda) functions\n",
        "Unlike `def`ined functions, anonmyous functions require extreme brevity of statement. Thus, their syntax orients them towards convenience at defining small, non-complex functions. Lambda functions are commonly used for relatively-simple data transformations or when rule needs to be passed to an explicit function, for example, telling what rule the built in `filter(f, data)` function should use to cut down on some data."
      ]
    },
    {
      "cell_type": "code",
      "execution_count": null,
      "metadata": {
        "id": "Mi_HtA7Dm-fH",
        "outputId": "95fcb39b-478e-4e38-c9f9-4b20cde69ee4"
      },
      "outputs": [
        {
          "name": "stdout",
          "output_type": "stream",
          "text": [
            "this is what happens when you double a number:\n",
            "4\n",
            "\n",
            "this is what happens when you double a string:\n",
            "haha\n",
            "\n",
            "this is what happens when you double a list:\n",
            "[4, 'haha', 4, 'haha']\n",
            "\n"
          ]
        }
      ],
      "source": [
        "## the syntax is `lambda input: output`\n",
        "\n",
        "lambda_double = lambda x: x * 2 # note x is a dummy variable\n",
        "\n",
        "print(\"this is what happens when you double a number:\")\n",
        "print(lambda_double(2))\n",
        "print(\"\")\n",
        "print(\"this is what happens when you double a string:\")\n",
        "print(lambda_double(\"ha\"))\n",
        "print(\"\")\n",
        "print(\"this is what happens when you double a list:\")\n",
        "print(lambda_double([4,\"haha\"]))\n",
        "print(\"\")"
      ]
    },
    {
      "cell_type": "markdown",
      "metadata": {
        "id": "Ytp_A9HNm-fH"
      },
      "source": [
        "#### 0.2.12.3 `*args` and `**kwargs`\n",
        "When a function is defined there are generally two types of arguments that one may pass. These are _position_ and _keyword_ arguments. Position arguments are those for which no default values are specified, while keyword arguments are those which have default values (because these latter types of arguments have both _key_ and _value_. Thus, Python (like most other languages) has special, pass-through argument-setting capacity, where, e.g., if you know you just want to pass the arguments from one function through to another, you can. For both positional and keyword arguments the _splat_ operator, `*`, is used. In particular, defining a function to first accept a single-splat argument&mdash;`*args`&mdash; will provide the programmer access to a `tuple` of all positional arguments under the `args` object name. Providing a second, double-splat argument&mdash;`**kwargs`&mdash;passes through a `dict` of all keyword arguments under the `kwargs` object name. Note that the usage of both of the names `args` and `kwargs` is optional (they can be named elsewise), but a strong convention.\n",
        "\n",
        "For example, we can define a function that simply prints its `*args` and `**kwargs` (below). If you'd like, think of this as a way of setting your functions to accept _completely_ arbitrary input."
      ]
    },
    {
      "cell_type": "code",
      "execution_count": null,
      "metadata": {
        "id": "wHaMk-PTm-fH",
        "outputId": "789c84a4-0a22-4603-c790-3d8e154bf60f"
      },
      "outputs": [
        {
          "name": "stdout",
          "output_type": "stream",
          "text": [
            "here's the args:  (2, 3, 4.0, 'string', True)\n",
            "here's the kwargs:  {'fun': 'computation + calculation', 'tired': True, 'sleep': 'important!'}\n"
          ]
        }
      ],
      "source": [
        "def args_n_kwargs(*args, **kwargs):\n",
        "    print(\"here's the args: \", args)\n",
        "    print(\"here's the kwargs: \", kwargs)\n",
        "\n",
        "args_n_kwargs(2,3,4.0,\"string\",True, fun = \"computation + calculation\", tired = True, sleep = \"important!\")"
      ]
    },
    {
      "cell_type": "markdown",
      "metadata": {
        "id": "8W57bA9pm-fH"
      },
      "source": [
        "### 0.2.13 Control Flow\n",
        "\n",
        "#### 0.2.13.1 Conditioning\n",
        "As with most programming languages, actions can be performed conditionally using `if`.  This includes the basic `if` along with its partial counterparts: `elif` and `else`."
      ]
    },
    {
      "cell_type": "code",
      "execution_count": null,
      "metadata": {
        "id": "hOeSP4uDm-fH",
        "outputId": "a7974552-3823-42cc-d3c7-ca4746ac6b9a"
      },
      "outputs": [
        {
          "name": "stdout",
          "output_type": "stream",
          "text": [
            "when all else fails use else (if you want to)\n"
          ]
        }
      ],
      "source": [
        "if 1 > 2:\n",
        "    message = \"if only 1 were greater than two...\"\n",
        "elif 1 > 3:\n",
        "    message = \"elif stands for 'else if'\"\n",
        "else:\n",
        "    message = \"when all else fails use else (if you want to)\"\n",
        "print(message)"
      ]
    },
    {
      "cell_type": "markdown",
      "metadata": {
        "id": "IvCL7I_wm-fH"
      },
      "source": [
        "#### 0.2.13.2 Conditional assignment\n",
        "A neat feature in Python utilizes control flow to afford succinct nimble object assignment. Here, the value of an assigned object depends on the state of a different object."
      ]
    },
    {
      "cell_type": "code",
      "execution_count": null,
      "metadata": {
        "id": "Mo-OfFXym-fH",
        "outputId": "2cb0c12e-2029-4c9a-a5c4-350bc5397480"
      },
      "outputs": [
        {
          "name": "stdout",
          "output_type": "stream",
          "text": [
            "2\n",
            "1\n"
          ]
        }
      ],
      "source": [
        "## The syntax is `object = <VALUE> if <CONDITION> else <VALUE>`\n",
        "\n",
        "number_of_fishes = 2 if re.search(\"red\", a_silly_string) and re.search(\"red\", a_silly_string) else 1\n",
        "print(number_of_fishes)\n",
        "\n",
        "number_of_fishes_left = 2 if re.search(\"red\", only_one_fish_left) and re.search(\"red\", only_one_fish_left) else 1\n",
        "print(number_of_fishes_left)"
      ]
    },
    {
      "cell_type": "markdown",
      "metadata": {
        "id": "Duf5Hbh6m-fH"
      },
      "source": [
        "#### 0.2.13.3 Truthiness\n",
        "In Python, you can use just about any object for its boolean (true/false) value. Mostly, default, empty, and completely unmodified objects will result in `False` boolean interpretations. Otherwise, objects will be interpreted as `True`. The list of falsies includes:\n",
        "\n",
        "- `False` (Boolean False)\n",
        "- `None` (A nonexistent value)\n",
        "- `[]` (an empty list)\n",
        "- `{}` (an empty dict)\n",
        "- `\"\"` (an empty string)\n",
        "- `set()` (an empty set)\n",
        "- `0` (the integer zero)\n",
        "- `0.0` (the float zero)"
      ]
    },
    {
      "cell_type": "markdown",
      "metadata": {
        "id": "3hqRUtwsm-fH"
      },
      "source": [
        "For example, we can use object truthiness to control a while loop:"
      ]
    },
    {
      "cell_type": "code",
      "execution_count": null,
      "metadata": {
        "id": "N-Yxk6yzm-fH",
        "outputId": "f58863ae-6dc0-4032-9b56-ba33fc33b169"
      },
      "outputs": [
        {
          "name": "stdout",
          "output_type": "stream",
          "text": [
            "Got another of that one\n",
            "Got another of this one\n",
            "Got another of that one\n",
            "Got another of the other one\n",
            "Got another of that one\n",
            "Got another of this one\n"
          ]
        }
      ],
      "source": [
        "## makes a list of things\n",
        "things = [\"this\", \"that\", \"the other\", \"that\", \"this\", \"that\"]\n",
        "while things: ## check the boolean value of `things`; stops when `things` is empty\n",
        "    ## 'pops' the last element off of the list\n",
        "    thing = things.pop()\n",
        "    print(\"Got another of \"+thing+\" one\")"
      ]
    },
    {
      "cell_type": "markdown",
      "metadata": {
        "id": "UkBwuE3pm-fH"
      },
      "source": [
        "#### 0.2.13.4 Infullness\n",
        "As a type of truthyness operator, Python's `in` checks if a replicate of an object exists inside of another.\n",
        "\n",
        "Note: `in` checks inclusion in collections (keys, for dictionaries), and is slow when applied to lists."
      ]
    },
    {
      "cell_type": "code",
      "execution_count": null,
      "metadata": {
        "id": "kiyG32LLm-fH",
        "outputId": "24e07a6b-7e40-4507-b722-bf9fc4944545"
      },
      "outputs": [
        {
          "name": "stdout",
          "output_type": "stream",
          "text": [
            "True\n",
            "False\n"
          ]
        }
      ],
      "source": [
        "## our example set\n",
        "first_four_set = {1,2,3,4}\n",
        "\n",
        "## 1 is in this set\n",
        "one_is_in = 1 in first_four_set\n",
        "print(one_is_in)\n",
        "\n",
        "## 5 is not in this set\n",
        "five_not_in = 5 in first_four_set\n",
        "print(five_not_in)"
      ]
    },
    {
      "cell_type": "markdown",
      "metadata": {
        "id": "c2nq3nqtm-fI"
      },
      "source": [
        "#### 0.2.13.5 Exceptions\n",
        "When something goes wrong, Python raises an exception. Unhandled, these will cause\n",
        "your program to crash. You can handle them using the `try`/`except` syntax.\n",
        "\n",
        "Note: You cannot do a `try` without an `except`, but the `except` can be universal, i.e., you can leave out the `ZeroDivisionError` specification. However, bugs relating to code in `try`/`except` contexts can be very difficult to diagnose, especially if explicit exceptions are not used. Here's a specific divides by zero example:"
      ]
    },
    {
      "cell_type": "code",
      "execution_count": null,
      "metadata": {
        "id": "liFLKyU0m-fI",
        "outputId": "aa07d8ce-75f0-44f6-a427-09999e4e33f9"
      },
      "outputs": [
        {
          "name": "stdout",
          "output_type": "stream",
          "text": [
            "cannot divide by zero\n"
          ]
        }
      ],
      "source": [
        "## this prevents the program from crashing when we divide by zero\n",
        "try:\n",
        "    print(0 / 0)\n",
        "except ZeroDivisionError:\n",
        "    print(\"cannot divide by zero\")"
      ]
    },
    {
      "cell_type": "markdown",
      "metadata": {
        "id": "k7hlzYbTm-fI"
      },
      "source": [
        "### 0.2.14 File i/o\n",
        "The format or act of saving/outputting a file is often referred to as `serialization`. If we're fortunate enough to have found some data in a common format then there's generally a convenient way to load it into memory. Saving (serializing) data is generally just as straightforward!\n",
        "\n",
        "#### 0.2.14.1 Writing\n",
        "Python's built-in method for loading (saving) data from (to) disk is the `open()` function. The first important thing about `open()` is specifying if you are reading (loading) from (`'r'`) or writing (saving) to (`'w'`, ) a file."
      ]
    },
    {
      "cell_type": "code",
      "execution_count": null,
      "metadata": {
        "id": "Hojg9-Z2m-fJ"
      },
      "outputs": [],
      "source": [
        "## first things first, let's write some text to a file to create some data\n",
        "file_handle = open(\"data/example_text_file.txt\", \"w\") # overwrites the file path to an empty file\n",
        "\n",
        "## each .write() command prints the string to the file\n",
        "file_handle.write(\"Here's a bit of text.\\n\")\n",
        "file_handle.write(\"Here's a bit more of that text.\\n\")\n",
        "\n",
        "## to finish the job we have to close the file handle\n",
        "file_handle.close()"
      ]
    },
    {
      "cell_type": "markdown",
      "metadata": {
        "id": "2q5l_d18m-fJ"
      },
      "source": [
        "#### 0.2.14.2 Reading\n",
        "Reading a file looks a lot like writing (but in reverse), which we can do now that we have a file.\n",
        "Just make sure you specify `'r'` when reading so as not to overwrite your data!"
      ]
    },
    {
      "cell_type": "code",
      "execution_count": null,
      "metadata": {
        "id": "XVfOXdZpm-fJ",
        "outputId": "6c8c67bd-1fa6-425a-c2b3-cf4729f4863f"
      },
      "outputs": [
        {
          "name": "stdout",
          "output_type": "stream",
          "text": [
            "Here's a bit of text.\n",
            "Here's a bit more of that text.\n",
            "\n"
          ]
        }
      ],
      "source": [
        "## opens the file handle into read mode\n",
        "file_handle = open(\"data/example_text_file.txt\", \"r\")\n",
        "\n",
        "text_file_as_string = file_handle.read()\n",
        "print(text_file_as_string)\n",
        "\n",
        "file_handle.close()"
      ]
    },
    {
      "cell_type": "markdown",
      "metadata": {
        "id": "yitXmPsRm-fJ"
      },
      "source": [
        "#### 0.2.14.3 Appending\n",
        "If you want to add to a file, use the `'a'` argumnent to append.\n",
        "Specifing `'w'` means you're overwriting the whole file. Here's an append example:"
      ]
    },
    {
      "cell_type": "code",
      "execution_count": null,
      "metadata": {
        "id": "6rI3h5ahm-fJ",
        "outputId": "074b029f-5a28-43e8-fb4c-82d6d1f6c327"
      },
      "outputs": [
        {
          "name": "stdout",
          "output_type": "stream",
          "text": [
            "Here's a bit of text.\n",
            "Here's a bit more of that text.\n",
            "And finally, some final thoghts right here.\n",
            "\n"
          ]
        }
      ],
      "source": [
        "## open the text file in append mode\n",
        "file_handle = open(\"data/example_text_file.txt\", \"a\")\n",
        "\n",
        "## each .write() command prints the string to the file\n",
        "file_handle.write(\"And finally, some final thoghts right here.\\n\")\n",
        "\n",
        "## to finish the job we have to close the file handle\n",
        "file_handle.close()\n",
        "\n",
        "## opens the file handle into read mode\n",
        "file_handle = open(\"data/example_text_file.txt\", \"r\")\n",
        "\n",
        "text_file_as_string = file_handle.read()\n",
        "print(text_file_as_string)\n",
        "\n",
        "## to finish the job we have to close the file handle\n",
        "file_handle.close()"
      ]
    },
    {
      "cell_type": "markdown",
      "metadata": {
        "id": "W3_h4BB1m-fJ"
      },
      "source": [
        "#### 0.2.14.4 Pythonic file i/o\n",
        "If you haven't heard or read the term `Pythonic` yet, it refers to the intentionally succicnt ways of performing task that Python affords. Using the `with` idiom and Python's indentation, here's a nicer way to approach file i/o"
      ]
    },
    {
      "cell_type": "code",
      "execution_count": null,
      "metadata": {
        "id": "LkJTspXKm-fJ",
        "outputId": "cba9c22f-300d-486f-8558-99aed91cf8fb"
      },
      "outputs": [
        {
          "name": "stdout",
          "output_type": "stream",
          "text": [
            "Here's a bit of text.\n",
            "Here's a bit more of that text.\n",
            "And finally, some final thoghts right here.\n",
            "And for good measure, some more text.\n"
          ]
        }
      ],
      "source": [
        "## let's print another line for good measure\n",
        "## Note this idiom automattically closes the handle\n",
        "with open(\"data/example_text_file.txt\", \"a\") as file_handle:\n",
        "    file_handle.write(\"And for good measure, some more text.\")\n",
        "\n",
        "## now, use the same idiom to read the data from file\n",
        "with open(\"data/example_text_file.txt\", \"r\") as file_handle:\n",
        "    text_file_as_string = file_handle.read()\n",
        "print(text_file_as_string)"
      ]
    },
    {
      "cell_type": "markdown",
      "metadata": {
        "id": "Ux5VBKzJm-fJ"
      },
      "source": [
        "#### 0.2.14.5 Line by line file reading\n",
        "Above, we can see how to write out individual pieceis or lines of text, but how can we loop through a file and just get the 'next' line until the end? Here we'll use the Pythonic syntax, but read files one line at a time. Working like this allows processes to perform their tasks on data one line at a time to conserve memory when there's lots of data."
      ]
    },
    {
      "cell_type": "code",
      "execution_count": null,
      "metadata": {
        "id": "soeQRzdxm-fK",
        "outputId": "f204f23b-3d0b-4b48-df1e-b87ab568d248"
      },
      "outputs": [
        {
          "name": "stdout",
          "output_type": "stream",
          "text": [
            "Here's a bit of text.\n",
            "\n",
            "Here's a bit more of that text.\n",
            "\n",
            "And finally, some final thoghts right here.\n",
            "\n",
            "And for good measure, some more text.\n"
          ]
        }
      ],
      "source": [
        "## now, use the same idiom to read the data from file one line at a time\n",
        "with open(\"data/example_text_file.txt\", \"r\") as file_handle:\n",
        "    for line in file_handle:\n",
        "        print(line)"
      ]
    },
    {
      "cell_type": "markdown",
      "metadata": {
        "id": "ognW4AqDm-fK"
      },
      "source": [
        "### 0.2.15 File I/O with more complex data objects\n",
        "Strings, numbers, text, booleans and nulls are all pretty common. However, the file I/O we've seen so far will only read/write strings. From this point we would then have to run `int()`, `float()`, etc., to coerce any found objects into their appropriate types. How can we preserve structure?\n",
        "\n",
        "#### 0.2.15.1 Pickle\n",
        "Pickling saves (serializes) Python objects. While this helpful for Python, pickles are not toally portable with other languages. Regardless, here's some basic saving and loading examples:"
      ]
    },
    {
      "cell_type": "code",
      "execution_count": null,
      "metadata": {
        "id": "II4HyI9qm-fK",
        "outputId": "1cded191-5b17-4423-ea3b-1a789e70a27f"
      },
      "outputs": [
        {
          "name": "stdout",
          "output_type": "stream",
          "text": [
            "{'firstname': 'Jake', 'lastname': 'Williams', 'middlename': 'Ryland'}\n"
          ]
        }
      ],
      "source": [
        "import pickle\n",
        "\n",
        "## open a file handle into write mode\n",
        "with open(\"data/pickled_dictionary.p\", \"wb\") as file_handle:\n",
        "    ## create the bytes representation of our data\n",
        "    bytes_pickle_of_data = pickle.dumps({\"firstname\": \"Jake\", \"lastname\": \"Williams\", \"middlename\": \"Ryland\"})\n",
        "    ## write this out to a file\n",
        "    file_handle.write(bytes_pickle_of_data)\n",
        "\n",
        "## open a file handle into read mode\n",
        "with open(\"data/pickled_dictionary.p\", \"rb\") as file_handle:\n",
        "    ## load the bytes representation of our data\n",
        "    bytes_pickle_of_data = file_handle.read()\n",
        "    ## convert the bytes into a Python object\n",
        "    instructor_data = pickle.loads(bytes_pickle_of_data)\n",
        "\n",
        "print(instructor_data)"
      ]
    },
    {
      "cell_type": "markdown",
      "metadata": {
        "id": "O7VxU7u3m-fK"
      },
      "source": [
        "#### 0.2.15.2 JSON\n",
        "JSON does the same for javascript, but has become a cross-language standard. Note that because JSON hails from javascript, there's no reason why it should be able to handle all native Python objects. So, while any Python object can be Pickled, only several types can by JSON'd: nulls (`None`s), booleans, integers, floats, dictionaries, and lists. So, aside from compatibility: why is JSON ever preferable to pickle? First, JSON loading/writing is just about as fast as pickling, and second, it's more secure&mdash;opening a malicious pickle can run code on your computer! There's also one more big reason that dominates:\n",
        "\n",
        "- JSON is very human readable. The syntax essentially looks like any mixture of Python's native dicts, lists, ints, floats, nulls, bools, and strings.\n",
        "\n",
        "In fact, Jupyter/IPython notebooks are entirely encoded as JSON objects! Here how to do the exact same work with JSON."
      ]
    },
    {
      "cell_type": "code",
      "execution_count": null,
      "metadata": {
        "id": "piVd70-Bm-fK",
        "outputId": "45b77645-a156-4290-d2fd-e25829942a62"
      },
      "outputs": [
        {
          "name": "stdout",
          "output_type": "stream",
          "text": [
            "{'firstname': 'Jake', 'lastname': 'Williams', 'middlename': 'Ryland'}\n"
          ]
        }
      ],
      "source": [
        "import json\n",
        "\n",
        "## open a file handle into write mode\n",
        "with open(\"data/JSONd_dictionary.json\", \"w\") as file_handle:\n",
        "    ## create the JSON serialized data\n",
        "    JSON_data = json.dumps({\"firstname\": \"Jake\", \"lastname\": \"Williams\", \"middlename\": \"Ryland\"})\n",
        "    ## write this out to a file\n",
        "    file_handle.write(JSON_data)\n",
        "\n",
        "## open a file handle into read mode\n",
        "with open(\"data/JSONd_dictionary.json\", \"r\") as file_handle:\n",
        "    ## load the JSON representation of our data\n",
        "    JSON_data = file_handle.read()\n",
        "    ## convert the JSON into a Python object\n",
        "    instructor_data = json.loads(JSON_data)\n",
        "\n",
        "print(instructor_data)"
      ]
    },
    {
      "cell_type": "markdown",
      "metadata": {
        "id": "ucIEDcUam-fK"
      },
      "source": [
        "#### 0.2.15.3 XML\n",
        "Want to save your data as something even more portable than json? Well, the whole World Wide Web&mdash;html&mdash;is essentially just XML. To read html as data I recommend the BeautifulSoup module, which we'll get to in the next (pre-processing) lecure. If it's just XML file I/O we can use two simpler modules: `xmltodict` and `dicttoxml`:"
      ]
    },
    {
      "cell_type": "code",
      "execution_count": null,
      "metadata": {
        "id": "SM1yVlghm-fK",
        "outputId": "9326e677-a69d-4c32-957b-3928b661fff6"
      },
      "outputs": [
        {
          "name": "stdout",
          "output_type": "stream",
          "text": [
            "b'<?xml version=\"1.0\" encoding=\"UTF-8\" ?><root><firstname type=\"str\">Jake</firstname><lastname type=\"str\">Williams</lastname><middlename type=\"str\">Ryland</middlename></root>'\n",
            "\n",
            "OrderedDict([('root', OrderedDict([('firstname', OrderedDict([('@type', 'str'), ('#text', 'Jake')])), ('lastname', OrderedDict([('@type', 'str'), ('#text', 'Williams')])), ('middlename', OrderedDict([('@type', 'str'), ('#text', 'Ryland')]))]))])\n",
            "\n"
          ]
        }
      ],
      "source": [
        "import dicttoxml, xmltodict\n",
        "\n",
        "## let's start by loading our instructor's data from file\n",
        "## open a file handle into read mode\n",
        "with open(\"data/JSONd_dictionary.json\", \"r\") as file_handle:\n",
        "    ## load the JSON representation of our data\n",
        "    JSON_data = file_handle.read()\n",
        "    ## convert the JSON into a Python object\n",
        "    instructor_data = json.loads(JSON_data)\n",
        "\n",
        "XML_data = dicttoxml.dicttoxml(instructor_data)\n",
        "print(XML_data)\n",
        "print(\"\")\n",
        "\n",
        "with open(\"data/XMLd_dictionary.xml\", \"wb\") as file_handle:\n",
        "    ## write the XML representation of our data to file\n",
        "    file_handle.write(XML_data)\n",
        "\n",
        "with open(\"data/XMLd_dictionary.xml\", \"rb\") as file_handle:\n",
        "    ## read the XML representation of our data from file\n",
        "    XML_data = file_handle.read()\n",
        "\n",
        "## parse the XML data into a dict\n",
        "XML_data_as_dict = xmltodict.parse(XML_data)\n",
        "\n",
        "## Note that this module has stored the data as an ordered dictionary!\n",
        "print(XML_data_as_dict)\n",
        "print(\"\")"
      ]
    },
    {
      "cell_type": "markdown",
      "metadata": {
        "id": "XqRJ8D2Fm-fL"
      },
      "source": [
        "### 0.2.16 Dataframes\n",
        "Finally, we'll close this chapter discussing an important tool for interacting with tabular or spreadsheet-like data&mdash;the `pandas` module (`pip3 install pandas`). `pandas` is a high-level library designed to simplify complex operations, as such, it is a very powerful tool well worth learning.\n",
        "\n",
        "`pandas` utilizes a custom data structure called a _dataframe_. Essentially, dataframes represent tables and contain more functionality than the standard Python data types.\n",
        "\n",
        "### 0.2.16.1 Interacting with Dataframes\n",
        "We can load tabular data from a CSV file directly using `pandas` tools, rather than the basic Python tools we have used earlier. To load some [AAPL stock history from Yahoo! Finance](https://finance.yahoo.com/quote/AAPL/history?p=AAPL) into a dataframe we can use `pd.read_csv()`:"
      ]
    },
    {
      "cell_type": "code",
      "execution_count": null,
      "metadata": {
        "id": "t0mRwpU7m-fL",
        "outputId": "2bde1a78-e734-4398-865a-4b35d28d8f8b"
      },
      "outputs": [
        {
          "name": "stdout",
          "output_type": "stream",
          "text": [
            "Index(['Date', 'Open', 'High', 'Low', 'Close', 'Volume', 'Adj Close'], dtype='object')\n",
            "\n"
          ]
        }
      ],
      "source": [
        "import pandas as pd\n",
        "\n",
        "AAPL = pd.read_csv(\"./data/APPL.csv\", sep = \",\", header = 0, parse_dates = [0])\n",
        "\n",
        "# a pandas dataframe has keys like a python dictionary, the keys come from the csv's headers\n",
        "\n",
        "print(AAPL.keys())\n",
        "print()"
      ]
    },
    {
      "cell_type": "markdown",
      "metadata": {
        "id": "atUyA0AVm-fL"
      },
      "source": [
        "#### 0.2.16.2 Ordered indexing (slicing)\n",
        "Slicing a dataframe like a list provides succicnt access to rows:"
      ]
    },
    {
      "cell_type": "code",
      "execution_count": null,
      "metadata": {
        "id": "qmlS53d1m-fL",
        "outputId": "ab62d4f0-cf8e-4b0c-ee5b-3a63d0b02866"
      },
      "outputs": [
        {
          "data": {
            "text/html": [
              "<div>\n",
              "<style scoped>\n",
              "    .dataframe tbody tr th:only-of-type {\n",
              "        vertical-align: middle;\n",
              "    }\n",
              "\n",
              "    .dataframe tbody tr th {\n",
              "        vertical-align: top;\n",
              "    }\n",
              "\n",
              "    .dataframe thead th {\n",
              "        text-align: right;\n",
              "    }\n",
              "</style>\n",
              "<table border=\"1\" class=\"dataframe\">\n",
              "  <thead>\n",
              "    <tr style=\"text-align: right;\">\n",
              "      <th></th>\n",
              "      <th>Date</th>\n",
              "      <th>Open</th>\n",
              "      <th>High</th>\n",
              "      <th>Low</th>\n",
              "      <th>Close</th>\n",
              "      <th>Volume</th>\n",
              "      <th>Adj Close</th>\n",
              "    </tr>\n",
              "  </thead>\n",
              "  <tbody>\n",
              "    <tr>\n",
              "      <th>0</th>\n",
              "      <td>2016-07-13</td>\n",
              "      <td>97.410004</td>\n",
              "      <td>97.669998</td>\n",
              "      <td>96.839996</td>\n",
              "      <td>96.870003</td>\n",
              "      <td>25892200</td>\n",
              "      <td>95.442123</td>\n",
              "    </tr>\n",
              "    <tr>\n",
              "      <th>1</th>\n",
              "      <td>2016-07-12</td>\n",
              "      <td>97.169998</td>\n",
              "      <td>97.699997</td>\n",
              "      <td>97.120003</td>\n",
              "      <td>97.419998</td>\n",
              "      <td>24167500</td>\n",
              "      <td>95.984011</td>\n",
              "    </tr>\n",
              "    <tr>\n",
              "      <th>2</th>\n",
              "      <td>2016-07-11</td>\n",
              "      <td>96.750000</td>\n",
              "      <td>97.650002</td>\n",
              "      <td>96.730003</td>\n",
              "      <td>96.980003</td>\n",
              "      <td>23794900</td>\n",
              "      <td>95.550502</td>\n",
              "    </tr>\n",
              "    <tr>\n",
              "      <th>3</th>\n",
              "      <td>2016-07-08</td>\n",
              "      <td>96.489998</td>\n",
              "      <td>96.889999</td>\n",
              "      <td>96.050003</td>\n",
              "      <td>96.680000</td>\n",
              "      <td>28912100</td>\n",
              "      <td>95.254921</td>\n",
              "    </tr>\n",
              "    <tr>\n",
              "      <th>4</th>\n",
              "      <td>2016-07-07</td>\n",
              "      <td>95.699997</td>\n",
              "      <td>96.500000</td>\n",
              "      <td>95.620003</td>\n",
              "      <td>95.940002</td>\n",
              "      <td>25139600</td>\n",
              "      <td>94.525831</td>\n",
              "    </tr>\n",
              "    <tr>\n",
              "      <th>5</th>\n",
              "      <td>2016-07-06</td>\n",
              "      <td>94.599998</td>\n",
              "      <td>95.660004</td>\n",
              "      <td>94.370003</td>\n",
              "      <td>95.529999</td>\n",
              "      <td>30949100</td>\n",
              "      <td>94.121870</td>\n",
              "    </tr>\n",
              "    <tr>\n",
              "      <th>6</th>\n",
              "      <td>2016-07-05</td>\n",
              "      <td>95.389999</td>\n",
              "      <td>95.400002</td>\n",
              "      <td>94.459999</td>\n",
              "      <td>94.989998</td>\n",
              "      <td>27705200</td>\n",
              "      <td>93.589829</td>\n",
              "    </tr>\n",
              "    <tr>\n",
              "      <th>7</th>\n",
              "      <td>2016-07-01</td>\n",
              "      <td>95.489998</td>\n",
              "      <td>96.470001</td>\n",
              "      <td>95.330002</td>\n",
              "      <td>95.889999</td>\n",
              "      <td>26026500</td>\n",
              "      <td>94.476565</td>\n",
              "    </tr>\n",
              "    <tr>\n",
              "      <th>8</th>\n",
              "      <td>2016-06-30</td>\n",
              "      <td>94.440002</td>\n",
              "      <td>95.769997</td>\n",
              "      <td>94.300003</td>\n",
              "      <td>95.599998</td>\n",
              "      <td>35836400</td>\n",
              "      <td>94.190838</td>\n",
              "    </tr>\n",
              "    <tr>\n",
              "      <th>9</th>\n",
              "      <td>2016-06-29</td>\n",
              "      <td>93.970001</td>\n",
              "      <td>94.550003</td>\n",
              "      <td>93.629997</td>\n",
              "      <td>94.400002</td>\n",
              "      <td>36531000</td>\n",
              "      <td>93.008530</td>\n",
              "    </tr>\n",
              "  </tbody>\n",
              "</table>\n",
              "</div>"
            ],
            "text/plain": [
              "        Date       Open       High        Low      Close    Volume  Adj Close\n",
              "0 2016-07-13  97.410004  97.669998  96.839996  96.870003  25892200  95.442123\n",
              "1 2016-07-12  97.169998  97.699997  97.120003  97.419998  24167500  95.984011\n",
              "2 2016-07-11  96.750000  97.650002  96.730003  96.980003  23794900  95.550502\n",
              "3 2016-07-08  96.489998  96.889999  96.050003  96.680000  28912100  95.254921\n",
              "4 2016-07-07  95.699997  96.500000  95.620003  95.940002  25139600  94.525831\n",
              "5 2016-07-06  94.599998  95.660004  94.370003  95.529999  30949100  94.121870\n",
              "6 2016-07-05  95.389999  95.400002  94.459999  94.989998  27705200  93.589829\n",
              "7 2016-07-01  95.489998  96.470001  95.330002  95.889999  26026500  94.476565\n",
              "8 2016-06-30  94.440002  95.769997  94.300003  95.599998  35836400  94.190838\n",
              "9 2016-06-29  93.970001  94.550003  93.629997  94.400002  36531000  93.008530"
            ]
          },
          "execution_count": 50,
          "metadata": {},
          "output_type": "execute_result"
        }
      ],
      "source": [
        "# dataframes support slicing, like lists\n",
        "AAPL[:10] # dataframes are displayed nicely in notebooks without the print function"
      ]
    },
    {
      "cell_type": "markdown",
      "metadata": {
        "id": "ENB-JtXDm-fL"
      },
      "source": [
        "Elements and sections of dataframes can be accessed easily:"
      ]
    },
    {
      "cell_type": "code",
      "execution_count": null,
      "metadata": {
        "id": "xBsoWywkm-fL",
        "outputId": "ee139461-0f40-413e-912a-3215757c8cc7"
      },
      "outputs": [
        {
          "name": "stdout",
          "output_type": "stream",
          "text": [
            "97.410004\n"
          ]
        },
        {
          "data": {
            "text/html": [
              "<div>\n",
              "<style scoped>\n",
              "    .dataframe tbody tr th:only-of-type {\n",
              "        vertical-align: middle;\n",
              "    }\n",
              "\n",
              "    .dataframe tbody tr th {\n",
              "        vertical-align: top;\n",
              "    }\n",
              "\n",
              "    .dataframe thead th {\n",
              "        text-align: right;\n",
              "    }\n",
              "</style>\n",
              "<table border=\"1\" class=\"dataframe\">\n",
              "  <thead>\n",
              "    <tr style=\"text-align: right;\">\n",
              "      <th></th>\n",
              "      <th>Date</th>\n",
              "      <th>Open</th>\n",
              "    </tr>\n",
              "  </thead>\n",
              "  <tbody>\n",
              "    <tr>\n",
              "      <th>0</th>\n",
              "      <td>2016-07-13</td>\n",
              "      <td>97.410004</td>\n",
              "    </tr>\n",
              "    <tr>\n",
              "      <th>1</th>\n",
              "      <td>2016-07-12</td>\n",
              "      <td>97.169998</td>\n",
              "    </tr>\n",
              "    <tr>\n",
              "      <th>2</th>\n",
              "      <td>2016-07-11</td>\n",
              "      <td>96.750000</td>\n",
              "    </tr>\n",
              "    <tr>\n",
              "      <th>3</th>\n",
              "      <td>2016-07-08</td>\n",
              "      <td>96.489998</td>\n",
              "    </tr>\n",
              "    <tr>\n",
              "      <th>4</th>\n",
              "      <td>2016-07-07</td>\n",
              "      <td>95.699997</td>\n",
              "    </tr>\n",
              "    <tr>\n",
              "      <th>5</th>\n",
              "      <td>2016-07-06</td>\n",
              "      <td>94.599998</td>\n",
              "    </tr>\n",
              "    <tr>\n",
              "      <th>6</th>\n",
              "      <td>2016-07-05</td>\n",
              "      <td>95.389999</td>\n",
              "    </tr>\n",
              "    <tr>\n",
              "      <th>7</th>\n",
              "      <td>2016-07-01</td>\n",
              "      <td>95.489998</td>\n",
              "    </tr>\n",
              "    <tr>\n",
              "      <th>8</th>\n",
              "      <td>2016-06-30</td>\n",
              "      <td>94.440002</td>\n",
              "    </tr>\n",
              "    <tr>\n",
              "      <th>9</th>\n",
              "      <td>2016-06-29</td>\n",
              "      <td>93.970001</td>\n",
              "    </tr>\n",
              "  </tbody>\n",
              "</table>\n",
              "</div>"
            ],
            "text/plain": [
              "        Date       Open\n",
              "0 2016-07-13  97.410004\n",
              "1 2016-07-12  97.169998\n",
              "2 2016-07-11  96.750000\n",
              "3 2016-07-08  96.489998\n",
              "4 2016-07-07  95.699997\n",
              "5 2016-07-06  94.599998\n",
              "6 2016-07-05  95.389999\n",
              "7 2016-07-01  95.489998\n",
              "8 2016-06-30  94.440002\n",
              "9 2016-06-29  93.970001"
            ]
          },
          "execution_count": 51,
          "metadata": {},
          "output_type": "execute_result"
        }
      ],
      "source": [
        "# an element can be accessed using the row and column indices\n",
        "print(AAPL.iloc[0, 1])\n",
        "\n",
        "# an entire section can be sliced 2-dimensionally\n",
        "AAPL.iloc[:10, :2]"
      ]
    },
    {
      "cell_type": "markdown",
      "metadata": {
        "id": "DufSFLOlm-fL"
      },
      "source": [
        "#### 0.2.16.3 Associative indexing\n",
        "Just like a dictionary of lists, a dataframe's columns can be accessed by name:"
      ]
    },
    {
      "cell_type": "code",
      "execution_count": null,
      "metadata": {
        "id": "iiRuOMzKm-fL",
        "outputId": "f1f8e608-1114-4f45-f510-4766d6597fb7"
      },
      "outputs": [
        {
          "data": {
            "text/plain": [
              "0    97.410004\n",
              "1    97.169998\n",
              "2    96.750000\n",
              "3    96.489998\n",
              "4    95.699997\n",
              "5    94.599998\n",
              "6    95.389999\n",
              "7    95.489998\n",
              "8    94.440002\n",
              "9    93.970001\n",
              "Name: Open, dtype: float64"
            ]
          },
          "execution_count": 52,
          "metadata": {},
          "output_type": "execute_result"
        }
      ],
      "source": [
        "AAPL[\"Open\"][:10]"
      ]
    },
    {
      "cell_type": "markdown",
      "metadata": {
        "id": "Hl6Xs55Hm-fL"
      },
      "source": [
        "Columns can even be accessed in groups by name, using a list of the names as keys:"
      ]
    },
    {
      "cell_type": "code",
      "execution_count": null,
      "metadata": {
        "id": "oSpdnfmQm-fL",
        "outputId": "596b32cc-dfee-4971-dd99-b4cdf3e56351"
      },
      "outputs": [
        {
          "data": {
            "text/html": [
              "<div>\n",
              "<style scoped>\n",
              "    .dataframe tbody tr th:only-of-type {\n",
              "        vertical-align: middle;\n",
              "    }\n",
              "\n",
              "    .dataframe tbody tr th {\n",
              "        vertical-align: top;\n",
              "    }\n",
              "\n",
              "    .dataframe thead th {\n",
              "        text-align: right;\n",
              "    }\n",
              "</style>\n",
              "<table border=\"1\" class=\"dataframe\">\n",
              "  <thead>\n",
              "    <tr style=\"text-align: right;\">\n",
              "      <th></th>\n",
              "      <th>Open</th>\n",
              "      <th>Date</th>\n",
              "    </tr>\n",
              "  </thead>\n",
              "  <tbody>\n",
              "    <tr>\n",
              "      <th>0</th>\n",
              "      <td>97.410004</td>\n",
              "      <td>2016-07-13</td>\n",
              "    </tr>\n",
              "    <tr>\n",
              "      <th>1</th>\n",
              "      <td>97.169998</td>\n",
              "      <td>2016-07-12</td>\n",
              "    </tr>\n",
              "    <tr>\n",
              "      <th>2</th>\n",
              "      <td>96.750000</td>\n",
              "      <td>2016-07-11</td>\n",
              "    </tr>\n",
              "    <tr>\n",
              "      <th>3</th>\n",
              "      <td>96.489998</td>\n",
              "      <td>2016-07-08</td>\n",
              "    </tr>\n",
              "    <tr>\n",
              "      <th>4</th>\n",
              "      <td>95.699997</td>\n",
              "      <td>2016-07-07</td>\n",
              "    </tr>\n",
              "    <tr>\n",
              "      <th>5</th>\n",
              "      <td>94.599998</td>\n",
              "      <td>2016-07-06</td>\n",
              "    </tr>\n",
              "    <tr>\n",
              "      <th>6</th>\n",
              "      <td>95.389999</td>\n",
              "      <td>2016-07-05</td>\n",
              "    </tr>\n",
              "    <tr>\n",
              "      <th>7</th>\n",
              "      <td>95.489998</td>\n",
              "      <td>2016-07-01</td>\n",
              "    </tr>\n",
              "    <tr>\n",
              "      <th>8</th>\n",
              "      <td>94.440002</td>\n",
              "      <td>2016-06-30</td>\n",
              "    </tr>\n",
              "    <tr>\n",
              "      <th>9</th>\n",
              "      <td>93.970001</td>\n",
              "      <td>2016-06-29</td>\n",
              "    </tr>\n",
              "  </tbody>\n",
              "</table>\n",
              "</div>"
            ],
            "text/plain": [
              "        Open       Date\n",
              "0  97.410004 2016-07-13\n",
              "1  97.169998 2016-07-12\n",
              "2  96.750000 2016-07-11\n",
              "3  96.489998 2016-07-08\n",
              "4  95.699997 2016-07-07\n",
              "5  94.599998 2016-07-06\n",
              "6  95.389999 2016-07-05\n",
              "7  95.489998 2016-07-01\n",
              "8  94.440002 2016-06-30\n",
              "9  93.970001 2016-06-29"
            ]
          },
          "execution_count": 53,
          "metadata": {},
          "output_type": "execute_result"
        }
      ],
      "source": [
        "AAPL[[\"Open\", \"Date\"]][:10]"
      ]
    },
    {
      "cell_type": "markdown",
      "metadata": {
        "id": "-HEpnV88m-fM"
      },
      "source": [
        "#### 0.2.16.4 Conditional indexing: Boolean masks\n",
        "One of the handiest basic aspect of the dataframe data structure is its capacity to be indexed by (basically) lists of boolean values. Specifically, a index of `True` means an element/row/column will be accessed, while those marked by `False` will not:"
      ]
    },
    {
      "cell_type": "code",
      "execution_count": null,
      "metadata": {
        "id": "A5nOJwl0m-fM",
        "outputId": "a25f8169-7378-47b3-d5cd-0435175d94c8"
      },
      "outputs": [
        {
          "data": {
            "text/html": [
              "<div>\n",
              "<style scoped>\n",
              "    .dataframe tbody tr th:only-of-type {\n",
              "        vertical-align: middle;\n",
              "    }\n",
              "\n",
              "    .dataframe tbody tr th {\n",
              "        vertical-align: top;\n",
              "    }\n",
              "\n",
              "    .dataframe thead th {\n",
              "        text-align: right;\n",
              "    }\n",
              "</style>\n",
              "<table border=\"1\" class=\"dataframe\">\n",
              "  <thead>\n",
              "    <tr style=\"text-align: right;\">\n",
              "      <th></th>\n",
              "      <th>Date</th>\n",
              "      <th>Open</th>\n",
              "      <th>High</th>\n",
              "      <th>Low</th>\n",
              "      <th>Close</th>\n",
              "      <th>Volume</th>\n",
              "      <th>Adj Close</th>\n",
              "    </tr>\n",
              "  </thead>\n",
              "  <tbody>\n",
              "    <tr>\n",
              "      <th>0</th>\n",
              "      <td>2016-07-13</td>\n",
              "      <td>97.410004</td>\n",
              "      <td>97.669998</td>\n",
              "      <td>96.839996</td>\n",
              "      <td>96.870003</td>\n",
              "      <td>25892200</td>\n",
              "      <td>95.442123</td>\n",
              "    </tr>\n",
              "    <tr>\n",
              "      <th>1</th>\n",
              "      <td>2016-07-12</td>\n",
              "      <td>97.169998</td>\n",
              "      <td>97.699997</td>\n",
              "      <td>97.120003</td>\n",
              "      <td>97.419998</td>\n",
              "      <td>24167500</td>\n",
              "      <td>95.984011</td>\n",
              "    </tr>\n",
              "    <tr>\n",
              "      <th>2</th>\n",
              "      <td>2016-07-11</td>\n",
              "      <td>96.750000</td>\n",
              "      <td>97.650002</td>\n",
              "      <td>96.730003</td>\n",
              "      <td>96.980003</td>\n",
              "      <td>23794900</td>\n",
              "      <td>95.550502</td>\n",
              "    </tr>\n",
              "  </tbody>\n",
              "</table>\n",
              "</div>"
            ],
            "text/plain": [
              "        Date       Open       High        Low      Close    Volume  Adj Close\n",
              "0 2016-07-13  97.410004  97.669998  96.839996  96.870003  25892200  95.442123\n",
              "1 2016-07-12  97.169998  97.699997  97.120003  97.419998  24167500  95.984011\n",
              "2 2016-07-11  96.750000  97.650002  96.730003  96.980003  23794900  95.550502"
            ]
          },
          "execution_count": 54,
          "metadata": {},
          "output_type": "execute_result"
        }
      ],
      "source": [
        "from datetime import datetime as dt\n",
        "\n",
        "## make a mask for the dates at least as recent as Sept. 1 2018\n",
        "mask_since_july_10 = [date >= dt.strptime(\"2016-07-10\", \"%Y-%m-%d\") for date in AAPL[\"Date\"]]\n",
        "\n",
        "## apply the mast to the columns\n",
        "AAPL[mask_since_july_10]"
      ]
    },
    {
      "cell_type": "markdown",
      "metadata": {
        "id": "txBv0vaNm-fM"
      },
      "source": [
        "#### 0.2.16.5 Basic dataframe file i/o\n",
        "`pandas` provides numerous file i/o capabilities. Dataframes can be written to csv and even Microsoft Excel (xls) formats. (This requires the `xlwt` module. `pip3 install xlwt`.) (Pandas can read Excel spreadsheets, too.)"
      ]
    },
    {
      "cell_type": "code",
      "execution_count": null,
      "metadata": {
        "id": "qhDTnjWym-fM"
      },
      "outputs": [],
      "source": [
        "slice_of_AAPL = AAPL.iloc[:, :2]\n",
        "\n",
        "slice_of_AAPL.to_csv(\"./data/AAPL_first_two_columns.csv\", index = False) # we don't want to write the row numbers to file, so index = False\n",
        "\n",
        "slice_of_AAPL.to_excel(\"./data/AAPL_first_two_columns.xls\", index = False)"
      ]
    }
  ],
  "metadata": {
    "kernelspec": {
      "display_name": "Python 3",
      "language": "python",
      "name": "python3"
    },
    "language_info": {
      "codemirror_mode": {
        "name": "ipython",
        "version": 3
      },
      "file_extension": ".py",
      "mimetype": "text/x-python",
      "name": "python",
      "nbconvert_exporter": "python",
      "pygments_lexer": "ipython3",
      "version": "3.7.0"
    },
    "colab": {
      "provenance": [],
      "include_colab_link": true
    }
  },
  "nbformat": 4,
  "nbformat_minor": 0
}