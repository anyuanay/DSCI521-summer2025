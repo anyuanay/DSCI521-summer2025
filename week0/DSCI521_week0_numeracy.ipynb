{
  "cells": [
    {
      "cell_type": "markdown",
      "metadata": {
        "id": "view-in-github",
        "colab_type": "text"
      },
      "source": [
        "<a href=\"https://colab.research.google.com/github/anyuanay/DSCI521-summer2025/blob/main/week0/DSCI521_week0_numeracy.ipynb\" target=\"_parent\"><img src=\"https://colab.research.google.com/assets/colab-badge.svg\" alt=\"Open In Colab\"/></a>"
      ]
    },
    {
      "cell_type": "markdown",
      "metadata": {
        "id": "XG_FO0jOm36f"
      },
      "source": [
        "# DSCI 521: Methods for analysis and interpretation<br>Chapter 0.0: Numeracy"
      ]
    },
    {
      "cell_type": "markdown",
      "metadata": {
        "id": "1EVLQxvVm36j"
      },
      "source": [
        "## 0.0 Computation with calculation\n",
        "There are no pre-requesites for this course but we will be getting off of the ground fast, and not only with programming _but_ calculation, too. Oftentimes, the programming necessary for calculation in data science is more straightforward/less ad hoc, and more abstractive in than it is for data pre-processing. We will often have to ask: \"What's the _appropriate_ model for this problem and what will its output mean?\" Even though we might not be 'solving for $x$' so regularly as in an algebra class, it's potentially just as important to be able to communicate using math language, as it will often serve as the instructions that tell us how to complete a calculation, i.e., reading math will be necessary for being able to execute an/or understand an algorithm found in some literature.\n",
        "\n",
        "So in the present course there will be only partial focus (but certainly not none!) usage of base programming. But when it comes to calculation, it's much easier to get _some_ output than the _right_ output. In other words, we'll be using some pretty powerful and (relatively) easy to use tools that make it very fast to get _an_ answer, i.e. without encountering any bugs or code errors. But there are new kinds of bugs that we have to worry abuot, i.e., the 'math', or, _how_ we execute our calculation. This means that a target in the course should be the development of intuition for calculation, and hence a need to be able to read and write math&mdash;numeracy&mdash;for the sake of communication. So, this additional section to our introduction now discusses the course's assumed mathematical proficiency in the context of the notation we'll be using, and the language and syntax necessary to express this mathematical notation&mdash;$\\LaTeX$ (pronounced 'lah-tek')."
      ]
    },
    {
      "cell_type": "markdown",
      "metadata": {
        "id": "DJoIN_9Lm36k"
      },
      "source": [
        "### 0.0.1 Numeracy and $\\LaTeX$\n",
        "_Latex_ is a mathematical typesetting software used for the production of documents&mdash;basically, pdfs. The way we're using it in this course is in our Jupyter notebook markdown cells, as opposed to on its own, which is how one would put together an academic article for publication when there's a strong need to the diverse range of mathematical symbols. But Latex is funny; there are a lot of odd or random symbols that you can produce, for example, the $\\LaTeX$ logo in our markdown cell is being produced from the snippet of Latex 'code': `$\\LaTeX$`.\n",
        "\n",
        "So with Latex, mathematical symbols are abstracted by commands. For example the horizontal rule fraction $\\frac{1}{2}$ is produced by the code `$\\frac{1}{2}$`. We certainly won't be going through all of Latex (it has its own ecosystem of modules, check out `tikz`!), but rather on a quick tour through some symbols that we'll be using commonly in our discussion and in the course, discuss some properties of the mathematical objects to support the developnment of intuition for calculation.\n",
        "\n",
        "Finally, if you'd like to get started with Latex more generally for document typesetting then this (Jupyter notebooks) is not the environment. These days, there are some nice pre-packaged GUI resources that you can point-and-click download here:\n",
        "\n",
        "- https://www.latex-project.org/get/\n",
        "\n",
        "Additionally, if you have a decent internet connection there's some very nice collaboration software for Latex called Overleaf:\n",
        "\n",
        "- https://www.overleaf.com/\n",
        "\n",
        "Overleaf provides some of the functionality of, e.g., Google Docs and subsequently doesn't require the installation of software to run, just produce documents in your browser!"
      ]
    },
    {
      "cell_type": "markdown",
      "metadata": {
        "id": "sAf07SP5m36k"
      },
      "source": [
        "### 0.0.2 Markdown cells\n",
        "In order to read and write Latex you'll have to interact with Markdown cells. The text you're reading here is written in markdown. To write in markdown mode, click on a cell and select 'Markdown' from the dropdown menu at top. In markdown, we can easily express snippets of math mode text between dollar signs: `$<math mode commands here>$`. Additionally, to present 'code-mode' text&mdash;like for the explanation of math mode in the previous sentence&mdash;you can use back ticks  ``` `<code mode text here>` ```. For both of these typesetting syntaxes it can often be very handy to have a 'cheat sheet' for easy reference. Both systems have these:\n",
        "\n",
        "- Latex: https://wch.github.io/latexsheet/\n",
        "- Markdown: https://guides.github.com/pdfs/markdown-cheatsheet-online.pdf\n",
        "\n",
        "Unfortunately, upon reviewing the markdown cheat sheet it unfortunately appears that there's no command-like support for emojis in Jupyter markdown, even though Jupyter's mostly uses github-flavored markdown and github does (see the [docs](https://jupyter-notebook.readthedocs.io/en/stable/examples/Notebook/Working%20With%20Markdown%20Cells.html) for some other details). Maybe emojis next version?"
      ]
    },
    {
      "cell_type": "markdown",
      "metadata": {
        "id": "IjDolwmMm36k"
      },
      "source": [
        "### 0.0.3 Numbers and systems\n",
        "If we're discussing matters of calculation then numbers are generally involved. Numbers come in several differnt flavors, including:\n",
        "\n",
        "- Natural numbers (coded as `$\\mathbb{N}$`) are non-zero counting numbers: $\\mathbb{N} = 1, 2, 3, \\cdots$\n",
        "- Integers (coded as `$\\mathbb{Z}$`) are positive and negative counting numbers, in addition to 0: $\\mathbb{Z} = \\cdots, -2, -1, 0, 1, 2, \\cdots$\n",
        "- Rational numbers $\\mathbb{Q}$ (coded as `$\\mathbb{Q}$`) are quotients of integers, e.g., $\\frac{1}{2}$ or $\\frac{370}{83}$\n",
        "- Real numbers $\\mathbb{R}$ (coded as `$\\mathbb{R}$`) are quantities, inlcuding any of the above, but also numbers with non-repeating decimal expansions, like $\\pi$ or $e$.\n",
        "\n",
        "Of course encountering $\\pi$ in our real numbers might force us to ask \"what commands produce greek characters?\" In latex, greek characters are generally coded by their names, for example here's a few common ones:\n",
        "\n",
        "- $\\alpha$: `$\\alpha$`\n",
        "- $\\beta$: `$\\beta$`\n",
        "- $\\pi$: `$\\pi$`\n",
        "- $\\epsilon$: `$\\epsilon$`\n",
        "- $\\tau$: `$\\tau$`\n",
        "- $\\rho$: `$\\rho$`\n",
        "- $\\cdots$\n",
        "\n",
        "__Important: any character&mdash;$x$&mdash;can be used in mathematical notation; the important thing is to _indicate_ mathematical objects like $x$ with the fixed, math mode font:__ `$x$`."
      ]
    },
    {
      "cell_type": "markdown",
      "metadata": {
        "id": "aigtGIwWm36l"
      },
      "source": [
        "### 0.0.4 Mathematical syntax\n",
        "Another sticky point that can get in the way of quantitative discussion is the usage of grouping characters and other syntaxes. Generally, one will use _parentheses_ for groupings of numbers and variables in equations:\n",
        "\n",
        "- Parentheses: `()` say perform inside operations before outside operations, i.e., $x(y + z)$ adds $y$ and $z$ before multiplying by $x$.\n",
        "\n",
        "However, sometimes we'll use square _brackets_ for grouping, too, if it helps to clarify one grouping from another, for example\n",
        "\n",
        "$$v[w + x(y + z)]$$\n",
        "\n",
        "separates the addition by $w$ from the other operations. Note that in the above the mathematical expression was placed in double-dollar, 'display math mode': `$$v[w + x(y + z)]$$`, which formats the expression as centered, on its own line. This can be _very_ helpful when there's an important expression to discuss!\n",
        "\n",
        "However, the most basic ordered objects in Python (lists) use square backets for syntax (e.g., `[1, 2, 3]` for a list of three), and lists intuitively serve a lot like vectors (discussed below), so we'll also use square brackets to indicate vectors with explicit components, as needed, e.g., $v = [1, 2, 3]$ to indicate the vector.\n",
        "\n",
        "Another challenge of grouping-character syntax is that parentheses are also used to indicate arguments of functions (as in computing). So $f(x)$ will conventionally refer to a function $f$ which operates on some input quantity $x$ to produce an ouput, denoted $f(x)$.\n",
        "\n",
        "Finally, curly _braces_, `{}` mostly indicate sets (discussed below). But to express them in Latex you'll have to 'escape' them, i.e., to produce $\\{\\text{set}\\}$ you'll have to write out `$\\{\\text{set}\\}$`. This (escaping) is because curly braces play an important syntactic role in latex code&mdash;defining and and interacting with (typesetting) functions. Note that to produce the 'text mode' content $\\text{set}$ inside of a math mode snippet, one has to indicate the text status with the `\\text{content}` command.\n",
        "\n",
        "Note that braces and parentheses will also sometimes be used for sequences, too (discussed below), but we'll just use braces for sequences."
      ]
    },
    {
      "cell_type": "markdown",
      "metadata": {
        "id": "PA8t52_3m36l"
      },
      "source": [
        "### 0.0.5 Binary operations\n",
        "Going to the foundations of quantitative thinking, it's also important to discuss the representation of _binary operations_. While addition will use the standard $+$ symbol, coded `$+$`, the representation of multiplication can take a few different forms. For example, while sometimes a writer will try and make a multiplication _painfully_ clear with a 'dot', like $a\\cdot  b$ (coded `$a\\cdot b$`), it's quite common to see quantities in product adjacent to one another, like $ab$ (coded `$ab$`). The choice of notation is generally up to the writer, but as a rule of thumb it's usually pretty clear that multiplication is what's going on when a math symbol as placed adjacent to a grouping (not needing the dot), like $a(b + c)$. In contexts when no grouping is present, a dot may be helpful!\n",
        "\n",
        "And don't forget, addition and subtraction obey a few basic but powerful properties:\n",
        "\n",
        "_Commutativity_, i.e., order is irrelevant to output:\n",
        "\n",
        "- $ab = ba$, and $a + b = b + a$\n",
        "\n",
        "_Associativity_, i.e., compounding is irrelevant to output:\n",
        "- $(a + b) + c = a + (b + c)$, and $(ab)c=a(bc)$\n",
        "\n",
        "_Distributivity_, i.e., products and sums mix non-trivially:\n",
        "- $a(b + c) = ab + ac$\n",
        "\n",
        "Also, don't forget that each of these operations has an _identity_, or number by which the binary operation takes no effect on another. In other words, the number $0$ is the identity for addition, since adding $0$ to any other changes nothing, and the number $1$ is the identity for multiplication since it changes nothing under the _multiplication_ operation. There are inverses, too&mdash;for addition, addinig the negative of a number, ($-x$) to itself ($x$) 'cancels' the two to the additive identity, $0$, and multiplying a number ($x$) by its reciprocal ($1/x$) 'cancels' the two to the multiplicative identity of $1$ (unless $x=0$&mdash;tsk).\n",
        "\n",
        "Note: we'll discuss other notations for repeated binary operations below&mdash;sums and products."
      ]
    },
    {
      "cell_type": "markdown",
      "metadata": {
        "id": "hnkHFUN1m36l"
      },
      "source": [
        "### 0.0.6 Super- and sub-scripts\n",
        "One of the huge capabilites for Latex and math is its ability to easily annotate object with one another, either as subscripts (coded by 'underscore' `_`) or superscripts (coded by 'caret', `^`). To apply a sub- or superscript to an object it's essential to put the sub- or super-part into a pair of (unesccaped) curly braces, as this is the only way to guarentee that a group of characters subbed or supered. This means that we can do things like $x^2$ (coding `$x^2$`) to mean '$x$ squared' but must code $h^{izzo}$ and $v^{izza}$ (coded as `$h^{izzo}$` and `$v^{izza}$`) to mean '$h$ to the $izzo$ and $v$ to the $izza$'."
      ]
    },
    {
      "cell_type": "markdown",
      "metadata": {
        "id": "NvYCE-_fm36l"
      },
      "source": [
        "### 0.0.7 Sets\n",
        "Set theory is a big starting point for abstract math, and comes in very handy when thinking about probability and logic. For us, a _set_ $A$ is just an unordered collection of _unique_ things, i.e., there are no duplicates in $A$. As mentioned above, sets generally utilize curly braces and quantifiers. While curly braces don't _always_ mean sets, a tell tale for a set is often a vertical bar or 'pipe' (coded as `$\\mid$`), which should be read as 'such that'. For example, one could write that\n",
        "\n",
        "$$\\mathbb{N} = \\{x\\in\\mathbb{Z}\\mid x > 0\\}$$\n",
        "\n",
        "which is coded as `$$\\mathbb{N} = \\{x\\in\\mathbb{Z}\\mid x > 0\\}$$`. Note that the special epsilon character is coded as `$\\in$` and should be read to mean inclusion, spoken as 'in'. Putting this together, the set would be read as:\n",
        "> $\\mathbb{N}$ is equal to the set of numbers $x$ in $\\mathbb{Z}$ such that $x$ is larger than $0$.\n",
        "\n",
        "Relatiohships between sets can be reasoned at higher-levels, too. For example, we might wish to denote _containment_, e.g., if $A$ 'fits' inside of $B$. This is indicated by $A\\subset B$ (coded `$A\\subset B$`), or $A\\subseteq B$ (coded `$A\\subseteq B$`) if there's possibility the sets are equal.\n",
        "\n",
        "We might ask which 'things' belong to both of two sets $A$ and $B$. This is denoted as $A\\cap B$, called an _intersection_, and coded as `$A\\cap B$`. Alternatively, one might be interested to see the (at least as large) collection of things that are in either of $A$ or $B$. This is denoted as $A\\cup B$, called a _union_, and coded as `$A\\cup B$`. Like numbers with addition and multiplication (binary operations), these set operations obey commutative, associative, and distributive laws (very neat!):\n",
        "\n",
        "Commutative laws:\n",
        "- $A\\cup B=B\\cup A$\n",
        "- $A\\cap B=B\\cap A$\n",
        "\n",
        "Associative laws:\n",
        "- $(A\\cup B)\\cup C=A\\cup (B\\cup C)$\n",
        "- $(A\\cap B)\\cap C=A\\cap (B\\cap C)$\n",
        "\n",
        "Distributive laws:\n",
        "- $A\\cup (B\\cap C)=(A\\cup B)\\cap (A\\cup C)$\n",
        "- $A\\cap (B\\cup C)=(A\\cap B)\\cup (A\\cap C)$\n",
        "\n",
        "Oftentimes with sets there's also the need to consider 'the points not in a particular set'. For these types of sets we have the notion of _complimentation_, denoted by a superscripted capitol $C$. For example, the compliment of $\\mathbb{Q}$, denoted by $\\mathbb{Q}^C$ would refer to set of all real numbers that cannot be expressed as a quotient of integers, i.e., only the irrational numbers, like $\\sqrt{2}$ (coded as `$\\sqrt{2}$`) and $\\pi$.\n",
        "\n",
        "Unions and intersection are combined with complimentation to form De Morgan's laws:\n",
        "\n",
        "- $({A\\cup B})^C = A^C\\cap B^C$\n",
        "- $({A\\cap B})^C = A^C\\cup B^C$\n",
        "\n",
        "Which can be very useful ways of turning union or interesection operations into one another, depending on which is more convenient (for logic or computation).\n",
        "\n",
        "Generally, consideration of sets like $A$ and $B$ occurs in the context of a totality, e.g., $X$, which contains all possible sets, i.e., it's guarenteed that $A,B\\subseteq X$. This brings up one more set operation worth discussing called _set minus_, which indicates 'what things are left when I remove any things in $B$ from $A$'. Set minus is written as $A\\setminus{B}$ (coded by `$A\\setminus{B}$`), and read as '$A$ minus $B$'. Importantly, if $X$ inidicates the totality in which sets $A$ and $B$ exist, one has the guarentee that $A^C = B$ is synonymous with saying $X\\setminus{A} = B$. This relationship would then be symmetric."
      ]
    },
    {
      "cell_type": "markdown",
      "metadata": {
        "id": "0Y-6LVcdm36m"
      },
      "source": [
        "### 0.0.8 Sequences\n",
        "As mentioned above, sequences are denoted commonly by curly braces (like sets), but sequences will generally be indicated by upper and lower bounds, like $\\{x_i\\}_{i=1}^n$, coded as `$\\{x_i\\}_{i=1}^n$`, and read as\n",
        "> a sequence of values, $x_i$, enumerated by $i$ over $1$ to $n$\n",
        "\n",
        "More importantly, a sequence expresses an order of 'things', which might cover a collection that includes repitition, e.g., from a periodic function like $\\left\\{\\sin\\frac{\\pi i}{2}\\right\\}_{i = 1}^8$ (although we won't be doing much&mdash;if any&mdash;trigonometry).\n",
        "\n",
        "Finite sequences (like the previous example) resemble data objects&mdash;`list`s, in Python, but a lot of discussion of sequences in mathematics focuses on cases with infinitely-many terms exist. Important examples of infinite sequences include geometric sequences, like $\\left\\{\\frac{1}{2^i}\\right\\}_{i=1}^\\infty$, or the harmonic seuence: $\\left\\{\\frac{1}{i}\\right\\}_{i=1}^\\infty$, and the types of questions being asked in their analysis usually focuses on 'convergence', i.e., whether or not a sequence of values will get arbitrarily close to a particule value as more distant (large $i$) values of a sequence are considered. For example, both of the mentioned infinite sequences converge to zero.\n",
        "\n",
        "For us, sequences will be most useful in thinking about convergence, too, but more so in the context of an algorithm's optimization (beginning __Chapter 5__). We might wish to consider training a model in iterations&mdash;steps&mdash;and after each check on an important quantity. We might then compare differences in this quantity with each step, and when they appear to get to within a particular 'closeness', the algorithm will have 'converged'."
      ]
    },
    {
      "cell_type": "markdown",
      "metadata": {
        "id": "CJXD1N1lm36m"
      },
      "source": [
        "### 0.0.9 Vectors\n",
        "As discussed in __Chapter 1__:\n",
        "> Concretely, vectors are points in some finite-dimensional space.\n",
        "\n",
        "It wouldn't be very harmful to think of vectors as finite sequences, but more importantly for this discussion we should focus on how notation for vectors is varies. It's common to let plain characters in math mode be vectors&mdash;often, $u$, $v$, or $w$ denote vectors&mdash;but other notations use the 'arrow over' notation: $\\vec{w}$ (coded `$\\vec{w}$`). Oftentimes, it's sufficient without the over arrow when more explicit information is provided, like an exact form, e.g., $w = [3,2,5]$, a 'row' vector of three numbers.\n",
        "\n",
        "Also, vectors come in row and column shapes (like rows and columns from a spreadsheet), but a discussion of that topic is more relevant (for typesetting) in the context of matrics (next) where vertical order can explicitly be indicated. However, to easily indicate the column-vector equivalent of, e.g., $w = [3,2,5]$, one need only apply the _transpose_ superscript $T$, i.e., $w^T$ would indicate the column vector version of $w$."
      ]
    },
    {
      "cell_type": "markdown",
      "metadata": {
        "id": "6Yk77t8nm36m"
      },
      "source": [
        "### 0.0.10 Matrices\n",
        "One way to think of the matrix concept is basically as 2-dimensional numeric-data ordering/object generalization of vectors (like a spreadsheet). It's often convenient to think of a matrix as a vector of column( vector)s. Just as how they take up more space on a page, they take up more space to typeset. Moreover, it's worth noting that the basic typesetting for matrices is the same as tables and arrays. The latter aren't mathematical objects in the same way as matrices and so won't figure into our conversation on numeracy. But thier exact formatting is in the cheat sheet, so check it out, tables are important for communication!\n",
        "\n",
        "To represent a matrix like:\n",
        "\n",
        "$$\n",
        "A = \\begin{bmatrix}\n",
        "1 & 2 & 3 & 4 \\\\\n",
        "5 & 6 & 7 & 8\n",
        "\\end{bmatrix}\n",
        "$$\n",
        "\n",
        "the syntax is:\n",
        "\n",
        "```\n",
        "$$\n",
        "A = \\begin{bmatrix}\n",
        "1 & 2 & 3 & 4 \\\\\n",
        "5 & 6 & 7 & 8\n",
        "\\end{bmatrix}\n",
        "$$\n",
        "```\n",
        "\n",
        "where it's important to note that the ampersands `&` delimit columns, and double-escapes `\\\\` delimit rows (denote new lines). Finally, one last important note on the markdown used to produce our syntax explaination of the above matrix: to display large or multiline blocks of code mode text, place the text in triple back ticks."
      ]
    },
    {
      "cell_type": "markdown",
      "metadata": {
        "id": "yKpLF32Xm36m"
      },
      "source": [
        "### 0.0.11 Series and products\n",
        "Finally, it's often quite important to indicate repeated application by a binary operation to indicate when we want to add or multiply, e.g., 10 numbers together. Since each of these has to indicate the numbers being applied through the operation, it can often help to first consider the seqeuence that is being applied. For example, let's generally think of a sequence of some numbers $\\{x_i\\}_{i=1}^n$.\n",
        "\n",
        "For addition, repeated application is called _summation_ and is indicated by 'big sigma' notation:\n",
        "\n",
        "$$\\sum_{i=1}^n x_i = x_1 + x_2 + \\cdots + x_n$$\n",
        "\n",
        "and is coded as: `$$\\sum_{i=1}^n x_i = x_1 + x_2 + \\cdots + x_n$$`.\n",
        "\n",
        "For multiplication, repeated application is called _product_ and is indicated by 'big pi' notation:\n",
        "\n",
        "$$\\prod_{i=1}^n x_i = x_1 \\cdot x_2 \\cdot \\cdots \\cdot x_n$$\n",
        "\n",
        "and is coded as: `$$\\prod_{i=1}^n x_i = x_1 \\cdot x_2 \\cdot \\cdots \\cdot x_n$$`.\n",
        "\n",
        "Summations, especially, will come up _very_ regularly in our discussions for their use in summarizations (eh?) and accumulations of measurements, like error."
      ]
    }
  ],
  "metadata": {
    "kernelspec": {
      "display_name": "Python 3",
      "language": "python",
      "name": "python3"
    },
    "language_info": {
      "codemirror_mode": {
        "name": "ipython",
        "version": 3
      },
      "file_extension": ".py",
      "mimetype": "text/x-python",
      "name": "python",
      "nbconvert_exporter": "python",
      "pygments_lexer": "ipython3",
      "version": "3.7.0"
    },
    "colab": {
      "provenance": [],
      "include_colab_link": true
    }
  },
  "nbformat": 4,
  "nbformat_minor": 0
}