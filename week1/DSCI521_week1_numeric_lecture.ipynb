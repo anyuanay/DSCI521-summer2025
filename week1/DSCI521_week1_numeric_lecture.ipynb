{
  "cells": [
    {
      "cell_type": "markdown",
      "metadata": {
        "id": "view-in-github",
        "colab_type": "text"
      },
      "source": [
        "<a href=\"https://colab.research.google.com/github/anyuanay/DSCI521-summer2025/blob/main/week1/DSCI521_week1_numeric_lecture.ipynb\" target=\"_parent\"><img src=\"https://colab.research.google.com/assets/colab-badge.svg\" alt=\"Open In Colab\"/></a>"
      ]
    },
    {
      "cell_type": "markdown",
      "metadata": {
        "id": "-uokVSLHAX9h"
      },
      "source": [
        "# DSCI 521: Methods for analysis and interpretation <br> Chapter 1: Processing numeric data\n",
        "\n",
        "## 1.0 Numeric Python (NumPy)\n",
        "\n",
        "Vast quantities of data are numeric, and what data aren't often have numerical representations that can be important and power frameworks for analysis. Thus, if we are going to become experts at processing and analyzing data, we are certainly going to need to have familiar the excellent numerical processing utilities available in Python. Perhaps surprisingly, the basic capabilities of a fresh installation of Python with regards to processing and analyzing numeric data are quite limited. The most common solution to this problem is to use the Numeric Python module (`numpy`). Using `numpy` with Python allows you to turn your scripts into excellent calculators!\n",
        "#### 1.0.0.1 Motivating example: taking a mean\n",
        "As an example, let's look at calculating an average of numbers; `numpy` makes this much easier than with base Python.  The same could be said of nearly any mathematical computation you could think of doing!"
      ]
    },
    {
      "cell_type": "markdown",
      "metadata": {
        "id": "eZgat8fNAX9j",
        "outputId": "f9c4d775-b13b-499d-d991-81398ecf6588"
      },
      "source": [
        "```python\n",
        "# This is the standard way of importing NumPy\n",
        "import numpy as np\n",
        "\n",
        "first_five_indices = range(5) # range is a built-function that makes integers\n",
        "\n",
        "## computing an average the old-fashioned way\n",
        "average = 0\n",
        "for number in first_five_indices:\n",
        "    average = average + number\n",
        "average = average / len(first_five_indices)\n",
        "\n",
        "print(average)\n",
        "\n",
        "## using numpy's mean function\n",
        "print(np.mean(first_five_indices))\n",
        "```"
      ]
    },
    {
      "cell_type": "markdown",
      "metadata": {
        "id": "c2FEmckFAX9l"
      },
      "source": [
        "### 1.0.1 The big picture with `numpy`\n",
        "Rather than go over each method and function in detail, it's probably best to take reference of the official `numpy` documentation. Anytime you intend to use Python to perform computations involving numerical data, it's essential to first check if `numpy` has methods that may assist you. As shown above, you can usually save a lot of work and uncessary code using `numpy`! The documentation can be found here: https://docs.scipy.org/doc/numpy/reference/index.html.\n",
        "\n",
        "However, there is a big picture when working with `numpy` for data science and that starts with the module's `numpy.array()` class of objects, as these are the basis of Python's numerical computation capacity."
      ]
    },
    {
      "cell_type": "markdown",
      "metadata": {
        "id": "QvLWZ4l_AX9l"
      },
      "source": [
        "### 1.0.1.1 Review: Python `list` objects\n",
        "To begin our discussion of arrays it will be important for some familiarity with the most ubiquitous Python container for storing collections of objects, the `list`. So, if you're unfamiliar or looking for a refresher, please review.\n",
        "\n",
        "A `list` is the most basic Python data structure. In some other programming languages, the similar data structure is called an `array`, but in Python we'll reserve that term for `numpy`'s hallmark objects (__Section 1.0.2__). A list is simply a sequence of values. They are defined using square braces, like so:"
      ]
    },
    {
      "cell_type": "markdown",
      "metadata": {
        "id": "85F7R6PbAX9l"
      },
      "source": [
        "```python\n",
        "x = [8, 1, 5, 1, 89, 34, 3, 2, 144, 13, 34, 55, 0, 21]\n",
        "```"
      ]
    },
    {
      "cell_type": "markdown",
      "metadata": {
        "id": "26_WAudkAX9l"
      },
      "source": [
        "In this particular example, we defined a list called \"x\" containing a few integer values. Python lists can contain a mix of data types, for example:"
      ]
    },
    {
      "cell_type": "markdown",
      "metadata": {
        "id": "_D3oIOQqAX9l"
      },
      "source": [
        "```python\n",
        "y = [1, \"two\", 3.0]\n",
        "```"
      ]
    },
    {
      "cell_type": "markdown",
      "metadata": {
        "id": "qT7Sq_3NAX9l"
      },
      "source": [
        "Lists can be nested, meaning we could put lists inside of lists:"
      ]
    },
    {
      "cell_type": "markdown",
      "metadata": {
        "id": "bWSpXTqXAX9m"
      },
      "source": [
        "```python\n",
        "list_of_lists = [\n",
        "    [1, 2, 3],\n",
        "    [\"four\", \"five\", \"six\"],\n",
        "    [7.0, \"eight\", 9]\n",
        "]\n",
        "```"
      ]
    },
    {
      "cell_type": "markdown",
      "metadata": {
        "id": "AKmlgFPBAX9m"
      },
      "source": [
        "#### 1.0.1.2 Size and truthiness\n",
        "We can quickly look up the length of a list using the `len()` function:"
      ]
    },
    {
      "cell_type": "markdown",
      "metadata": {
        "id": "VGB1BRckAX9m",
        "outputId": "b7bc1474-cfe1-40e7-caeb-902841f237b3"
      },
      "source": [
        "```python\n",
        "len(list_of_lists)\n",
        "```"
      ]
    },
    {
      "cell_type": "markdown",
      "metadata": {
        "id": "dR9b_j_2AX9m",
        "outputId": "2cc70829-c9b2-48d0-c460-9e716e35b6f1"
      },
      "source": [
        "```python\n",
        "len(x)\n",
        "```"
      ]
    },
    {
      "cell_type": "markdown",
      "metadata": {
        "id": "7b6x3p3GAX9m"
      },
      "source": [
        "All container types can be tested for truth value. When a container is empty, its truth value is `False`, whenever it contains any elements, this value switches to `True`. This truth value can be used with `if` and `while` statements.\n",
        "\n",
        "Empty lists have length 0 and evaluate as `False` in conditional and boolean operations:"
      ]
    },
    {
      "cell_type": "markdown",
      "metadata": {
        "id": "8nfOzVomAX9m",
        "outputId": "81f1c56a-ccce-4210-8ef5-b174381b173e"
      },
      "source": [
        "```python\n",
        "z = []\n",
        "len(z)\n",
        "```"
      ]
    },
    {
      "cell_type": "markdown",
      "metadata": {
        "id": "tN5dJTlcAX9m",
        "outputId": "3ef42190-99f8-4c73-8483-08871b9fb8d9"
      },
      "source": [
        "```python\n",
        "if z:\n",
        "    print(\"This isn't empty!\")\n",
        "else:\n",
        "    print(\"This is empty!\")\n",
        "```"
      ]
    },
    {
      "cell_type": "markdown",
      "metadata": {
        "id": "K9QfRUF_AX9m"
      },
      "source": [
        "#### 1.0.1.3 Nesting and repitition\n",
        "Using nested lists, we might represent matrices of numbers:"
      ]
    },
    {
      "cell_type": "markdown",
      "metadata": {
        "id": "E3eKVkuiAX9n"
      },
      "source": [
        "```python\n",
        "matrix = [\n",
        "    [4, 8, 4],\n",
        "    [3, 2, 6],\n",
        "    [5, 3, 7]\n",
        "] # this is a 3 x 3 matrix\n",
        "```"
      ]
    },
    {
      "cell_type": "markdown",
      "metadata": {
        "id": "MsB1Z93zAX9n"
      },
      "source": [
        "For sequential integers there's the `range()` function. Since `range()` is a generator (Section 2.1.4) we'll have to coerce its result to a list to be able to interact with the squence as one."
      ]
    },
    {
      "cell_type": "markdown",
      "metadata": {
        "id": "IoZso4EvAX9n",
        "outputId": "5f037e26-4ef7-4369-da30-5cd93f487a49"
      },
      "source": [
        "```python\n",
        "seq = list(range(10))\n",
        "print(seq)\n",
        "```"
      ]
    },
    {
      "cell_type": "markdown",
      "metadata": {
        "id": "jaYWHHkqAX9n"
      },
      "source": [
        "There are a lot more ways to define lists:"
      ]
    },
    {
      "cell_type": "markdown",
      "metadata": {
        "id": "6FifRNx_AX9n",
        "outputId": "5f8b8360-43e8-452f-a93a-164864271032"
      },
      "source": [
        "```python\n",
        "empty_list = []\n",
        "print(empty_list)\n",
        "```"
      ]
    },
    {
      "cell_type": "markdown",
      "metadata": {
        "id": "TrKBBvMJAX9n"
      },
      "source": [
        "We can also use the `*` multiplication operator to initialize lists with repeated values:"
      ]
    },
    {
      "cell_type": "markdown",
      "metadata": {
        "id": "A1KGwVHxAX9n",
        "outputId": "d982fdc6-5915-4467-cbf9-be6d121e7918"
      },
      "source": [
        "```python\n",
        "list_of_empty_lists = [[]] * 5\n",
        "print(list_of_empty_lists)\n",
        "```"
      ]
    },
    {
      "cell_type": "markdown",
      "metadata": {
        "id": "kLcLgXLNAX9n"
      },
      "source": [
        "#### 1.0.1.4 Accessing elements\n",
        "We access elements of lists using their index:"
      ]
    },
    {
      "cell_type": "markdown",
      "metadata": {
        "id": "J34Ht8ZDAX9n",
        "outputId": "666da749-2ed8-4f69-b2cf-05fb8ba6922c"
      },
      "source": [
        "```python\n",
        "print(x)\n",
        "```"
      ]
    },
    {
      "cell_type": "markdown",
      "metadata": {
        "id": "S-tVlsZkAX9n",
        "outputId": "6db0d4ef-b2be-4561-9a5e-a1f7d966433f"
      },
      "source": [
        "```python\n",
        "x[0]\n",
        "```"
      ]
    },
    {
      "cell_type": "markdown",
      "metadata": {
        "id": "4sePOfTeAX9o",
        "outputId": "6c266b7a-f014-42f8-d21f-9745bfbf2e7e"
      },
      "source": [
        "```python\n",
        "x[3]\n",
        "```"
      ]
    },
    {
      "cell_type": "markdown",
      "metadata": {
        "id": "JyIpYakCAX9o"
      },
      "source": [
        "It is also possible, and quite convenient, to access elements in the reverse order by simply using a negative sign for the index:"
      ]
    },
    {
      "cell_type": "markdown",
      "metadata": {
        "id": "cidlM0pMAX9o",
        "outputId": "956831c6-7133-4d3c-a225-b2351da5721a"
      },
      "source": [
        "```python\n",
        "x[-1]\n",
        "```"
      ]
    },
    {
      "cell_type": "markdown",
      "metadata": {
        "id": "fhnuJvSfAX9o",
        "outputId": "55781716-0d77-4b9d-d928-9a30b747c657"
      },
      "source": [
        "```python\n",
        "x[-4]\n",
        "```"
      ]
    },
    {
      "cell_type": "markdown",
      "metadata": {
        "id": "WUA7-8YCAX9o"
      },
      "source": [
        "We can also \"slice\" lists, picking out specific sequences of elements by indicating indices:"
      ]
    },
    {
      "cell_type": "markdown",
      "metadata": {
        "id": "gP6SDfKnAX9o",
        "outputId": "37ed634c-4220-42d1-d1f1-8075620aff04"
      },
      "source": [
        "```python\n",
        "print(x)\n",
        "```"
      ]
    },
    {
      "cell_type": "markdown",
      "metadata": {
        "id": "UlAinQ8AAX9o",
        "outputId": "46d43586-fcba-49c1-ec28-5a41866e7129"
      },
      "source": [
        "```python\n",
        "print(x[4:10])\n",
        "```"
      ]
    },
    {
      "cell_type": "markdown",
      "metadata": {
        "id": "Tvog217KAX9o"
      },
      "source": [
        "Notice that the slice begins at index 4 (Python indexing starts at 0, so the element at index 4 is actually the 5th element) and ends with index 9, i.e. just before index 10.\n",
        "\n",
        "We can also slice using negative indices. We can perform open-ended slices to grab the rest of the list from a particular index."
      ]
    },
    {
      "cell_type": "markdown",
      "metadata": {
        "id": "kZjZrmSyAX9o",
        "outputId": "90ab061a-7079-4502-b851-8aac1abc94d3"
      },
      "source": [
        "```python\n",
        "print(x[-6:-3])\n",
        "```"
      ]
    },
    {
      "cell_type": "markdown",
      "metadata": {
        "id": "IlzbfhB1AX9o",
        "outputId": "410d3788-fb00-4571-86a1-194caa59fca2"
      },
      "source": [
        "```python\n",
        "print(x[3:])\n",
        "```"
      ]
    },
    {
      "cell_type": "markdown",
      "metadata": {
        "id": "2YbpgvrKAX9p",
        "outputId": "3ccf6dc4-eb6c-417c-d1b1-f7a253a5e0bc"
      },
      "source": [
        "```python\n",
        "print(x[:-8])\n",
        "```"
      ]
    },
    {
      "cell_type": "markdown",
      "metadata": {
        "id": "E4LOg5xeAX9p"
      },
      "source": [
        "#### 1.0.1.5 Modifying lists\n",
        "Lists can be modified after being created. This is the hallmark of an important concept called _mutability_. Specifically, a mutable object is one that can be modified without direct re-assignment. Following our discussion on lists we'll move on into immutable ordered arrays, which are referred to as _tuples_.\n",
        "When we want to add new elements to the end of a list, we use `.append()`:"
      ]
    },
    {
      "cell_type": "markdown",
      "metadata": {
        "id": "WNpUj0N-AX9p",
        "outputId": "08e0adbf-7389-4b6a-854e-c4dac7f064b8"
      },
      "source": [
        "```python\n",
        "seq.append(10)\n",
        "print(seq)\n",
        "```"
      ]
    },
    {
      "cell_type": "markdown",
      "metadata": {
        "id": "LKwMd1XwAX9p"
      },
      "source": [
        "But we have to be careful when appending to lists. Since Python allows multiple data types to be mixed in the same data structure, it is very easy to mistakenly append an unwanted item to a list. For example:"
      ]
    },
    {
      "cell_type": "markdown",
      "metadata": {
        "id": "DO5hLCqfAX9p",
        "outputId": "65eb98aa-7eda-47aa-9bff-84ca0de3fdd3"
      },
      "source": [
        "```python\n",
        "seq.append([11]) # Don't do this!\n",
        "print(seq)\n",
        "```"
      ]
    },
    {
      "cell_type": "markdown",
      "metadata": {
        "id": "8ShC8OcgAX9p"
      },
      "source": [
        "The use of an extra pair of square braces can lead to list dimensions and types getting messed up.\n",
        "\n",
        "We can delete the unwanted element by specifying its index and using the built-in `del` function:"
      ]
    },
    {
      "cell_type": "markdown",
      "metadata": {
        "id": "93g0nFCvAX9p",
        "outputId": "4faa945d-fe18-4ec6-ea40-a921d374b329"
      },
      "source": [
        "```python\n",
        "del(seq[-1])\n",
        "print(seq)\n",
        "```"
      ]
    },
    {
      "cell_type": "markdown",
      "metadata": {
        "id": "4lVt6G78AX9p"
      },
      "source": [
        "As it turns out, there's a different method for the event that we want to 'glue' two lists together. Here's an example of this using `.extend()`:"
      ]
    },
    {
      "cell_type": "markdown",
      "metadata": {
        "id": "0mt6GB7lAX9p",
        "outputId": "20fcde33-8dd7-41be-c920-517c3357615b"
      },
      "source": [
        "```python\n",
        "seq.extend([11, 12, 13]) # Do this!\n",
        "print(seq)\n",
        "```"
      ]
    },
    {
      "cell_type": "markdown",
      "metadata": {
        "id": "Qt1AudKvAX9q"
      },
      "source": [
        "#### 1.0.1.6 List iteration\n",
        "Iterating over lists in a loop is extremely common. In Python, we don't need to use indices to iterate over lists like other languages. We can use the convenient `in` operator:"
      ]
    },
    {
      "cell_type": "markdown",
      "metadata": {
        "id": "E3cf3tnuAX9q",
        "outputId": "0891461d-ec48-4e61-d6d4-4378c4bcc385"
      },
      "source": [
        "```python\n",
        "for number in seq:\n",
        "    print(number)\n",
        "```"
      ]
    },
    {
      "cell_type": "markdown",
      "metadata": {
        "id": "NP1qaI3AAX9q"
      },
      "source": [
        "We can use nested loops to access nested lists:"
      ]
    },
    {
      "cell_type": "markdown",
      "metadata": {
        "id": "MBAmAd0eAX9q",
        "outputId": "958451f0-7dcf-46b5-8b9e-3c675a639488"
      },
      "source": [
        "```python\n",
        "print(matrix)\n",
        "for row in matrix:\n",
        "    for item in row:\n",
        "        print(item)\n",
        "```"
      ]
    },
    {
      "cell_type": "markdown",
      "metadata": {
        "id": "xPT6x30mAX9q"
      },
      "source": [
        "The built-in function `enumerate` gives us easy access to the index of the current element inside a loop:"
      ]
    },
    {
      "cell_type": "markdown",
      "metadata": {
        "id": "nMP5UfvwAX9q",
        "outputId": "af8b5049-a376-45d3-d0c7-798a06d7cade"
      },
      "source": [
        "```python\n",
        "for m, row in enumerate(matrix):\n",
        "    print(\"Printing row \" + str(m)) # We're using str() to convert the integer variable m to a string, which allows us to concatenate it to the message\n",
        "    for n, item in enumerate(row):\n",
        "        print(\"Item from column \" + str(n) + \": \" + str(item))\n",
        "```"
      ]
    },
    {
      "cell_type": "markdown",
      "metadata": {
        "id": "44fmeJ33AX9q"
      },
      "source": [
        "### 1.0.2: An extremely important object type: `numpy.array()`\n",
        "While extremely easy and intuitive to use, `list`s can be quite slow and limited, particularly for numeric data. The `numpy` version of an ordered object, like a `list`, is called an `array`. These are generally much faster to work with (as they are implemented using much faster base code), with a tradeoff being that every item in the `array` must be of the same data type (Python allows for the elements of a `list` to be any combination of data types, which is one of the leading contributors to their slow speed).\n",
        "\n",
        "#### 1.0.2.1 Casting arrays\n",
        "Here's how to create an `array` in `numpy` from a list. The `array` result is commonly referred to as an 'nd-`array`' (which stands for 'n-dimensional `array`'):"
      ]
    },
    {
      "cell_type": "markdown",
      "metadata": {
        "id": "A0534YU5AX9q",
        "outputId": "2d3eac80-83d1-4940-b992-3e70342fc5ed"
      },
      "source": [
        "```python\n",
        "sample = [1, 2, 3]\n",
        "\n",
        "# Can cast a list into an array\n",
        "a = np.array([1, 2, 3])\n",
        "b = np.array(sample)\n",
        "\n",
        "print(a)\n",
        "print(b)\n",
        "\n",
        "```"
      ]
    },
    {
      "cell_type": "markdown",
      "metadata": {
        "id": "oMBXipY_AX9q"
      },
      "source": [
        "Printing the above arrays exhibits their underlying relationship to `list`s, and like them, we can simply use indexing with brackets just like with normal Python `list`s. This won't work the same way with higher-dimensional arrays (which we will discuss later)!"
      ]
    },
    {
      "cell_type": "markdown",
      "metadata": {
        "id": "3h2i0aDHAX9q",
        "outputId": "5e23d80b-b4ad-4017-d6c9-0ec1b2abd78b"
      },
      "source": [
        "```python\n",
        "print(a[0])\n",
        "print(b[2])\n",
        "```"
      ]
    },
    {
      "cell_type": "markdown",
      "metadata": {
        "id": "-9Wt8ZIqAX9q"
      },
      "source": [
        "#### 1.0.2.2 Other common ways to create `array`s\n",
        "`numpy` has several extremely convenient functions for the creation of frequently used types of arrays (here, the `(1, 4)` `tuple` indicates the shape of the array we want, i.e., a 1-dimensional `array`&mdash;like a `list`&mdash;of size 4):"
      ]
    },
    {
      "cell_type": "markdown",
      "metadata": {
        "id": "6I8pCKtvAX9r",
        "outputId": "2f46ef03-7d3b-4aa0-97f9-b10bc943fe49"
      },
      "source": [
        "```python\n",
        "# Create an array of all 0s\n",
        "c = np.zeros((1, 4))\n",
        "print(c)\n",
        "\n",
        "# Create an array of all 1s\n",
        "d = np.ones((1, 4))\n",
        "print(d)\n",
        "\n",
        "# Create an array full of a single constant, say 6\n",
        "e = np.full((1, 4), 6)\n",
        "print(e)\n",
        "\n",
        "# Create an array of random numbers\n",
        "f = np.random.random((1, 4))\n",
        "print(f)\n",
        "```"
      ]
    },
    {
      "cell_type": "markdown",
      "metadata": {
        "id": "zvosVypmAX9r"
      },
      "source": [
        "#### 1.0.2.3 Exercise: Creating a matrix\n",
        "Using the above matrix-generation techniques, create a 2x2 identity matrix."
      ]
    },
    {
      "cell_type": "markdown",
      "metadata": {
        "id": "xngydTZNAX9r"
      },
      "source": [
        "```python\n",
        "## code here\n",
        "```"
      ]
    },
    {
      "cell_type": "markdown",
      "metadata": {
        "id": "ug6JwdRjAX9r"
      },
      "source": [
        "#### 1.0.2.4 Broadcast (vectorized) operations\n",
        "One of the best features of `numpy` `arrays` is they allow you to _broadcast_ operations. Broadcasting allows you to perform an (the same) operation on every element in the `array` all at the same time. This contrasts with having to loop through normal Python `list`s (or comprehend them), applying the operation on each element, one-at-a-time. As an example, let's multiply each element in a list and an array by 10:"
      ]
    },
    {
      "cell_type": "markdown",
      "metadata": {
        "id": "H9IUCBDuAX9r",
        "outputId": "73750104-8695-4bfe-85dc-b9f4110fabbe"
      },
      "source": [
        "```python\n",
        "lst = [1, 2, 3, 4, 5, 6, 7, 8]\n",
        "temp = []\n",
        "arr = np.array(lst)\n",
        "\n",
        "# List operation\n",
        "for element in lst:\n",
        "    temp.append(element * 10)\n",
        "\n",
        "lst = temp\n",
        "print(lst)\n",
        "\n",
        "# same array operation\n",
        "arr = arr * 10\n",
        "\n",
        "print(arr)\n",
        "```"
      ]
    },
    {
      "cell_type": "markdown",
      "metadata": {
        "id": "crB6ZzG4AX9r"
      },
      "source": [
        "#### 1.0.2.5 Exercise: broadcast operations\n",
        "Square each element in the matrix `A` without using any loops."
      ]
    },
    {
      "cell_type": "markdown",
      "metadata": {
        "id": "T7iUq0GlAX9r"
      },
      "source": [
        "```python\n",
        "## code here\n",
        "```"
      ]
    },
    {
      "cell_type": "markdown",
      "metadata": {
        "id": "dzySffXIAX9r"
      },
      "source": [
        "#### 1.0.2.6 The big deal with `array`s\n",
        "It's absolutely essential to be proficient with using `array`s for numerical datasets in data science, as a given data point will often contain multiple numeric features. Anytime your data points have this constitution we can represent them as `array`s. With such points in a collection, the optimized `array` operations allow us to view and interact with them as the _vectors_ of a _matrix_. Thus, in `numpy` we have an interface to the powerful&mdash;though sometimes daunting&mdash;mathematical framework called _linear algebra_."
      ]
    },
    {
      "cell_type": "markdown",
      "metadata": {
        "id": "jxRAHroaAX9r"
      },
      "source": [
        "## 1.1 Introduction to linear algebra\n",
        "While calculus education commonly constitutes a large share of seconday mathematics education, linear algebra often gets less attention or is left out entirely. This does not mean it's less valuable in the real world, but quite often the opposite, especially now that we have so much data. Linear algebra forms the basis for a lot of modeling in data science, but more foundationally offers some really good, practical ways to represent and intuit numeric data. Let's put it this way:\n",
        "\n",
        "> Linear algebra is _the_ framework for dataset arithmetic"
      ]
    },
    {
      "cell_type": "markdown",
      "source": [
        "### 1.1.1 Vectors\n",
        "We've been talking about arrays a bit. Well, instead of thinking about these just as `list`s of numbers, we'll start to talk about them as _vectors_. Concretely, vectors are points in some finite-dimensional space. So, you have a spreadsheet with $n$ rows and $m$ columns, you can think of a column as an $n$-dimensional vector, and a row as an $m$-dimensional vector. What does and $n$-dimensional vector look like? Graphically, it's hard to think of a vector with more than $3$ dimensions, so it's not uncommon to provide intuitive examples in only $2$ or $3$ dimensions. In $2$ dimensions, a vector, $v$, is really just an $(x,y)$ point, but is often indicated with a line pointing to it from the origin, $(0,0)$, like:\n",
        "\n",
        "<img src=\"https://github.com/anyuanay/DSCI521-summer2025/blob/main/week1/uv-addition.gif?raw=true\" />"
      ],
      "metadata": {
        "id": "5dM5EFxFHkQh"
      }
    },
    {
      "cell_type": "markdown",
      "source": [
        "<img src=\"https://github.com/anyuanay/DSCI521-summer2025/blob/main/week1/Vector_components.png?raw=true\" />"
      ],
      "metadata": {
        "id": "wbXeOJBnHKuW"
      }
    },
    {
      "cell_type": "markdown",
      "metadata": {
        "id": "OizzpdJ7AX9r"
      },
      "source": [
        "#### 1.1.2 Vector arithmetic\n",
        "Linear algebra _is_ algebra, and comes with generalizations of all of our favorite arithmetic operations. In fact, when working with columns and rows of data, we're actually doing vector arithmetic operations. So, what are they and how are they done?"
      ]
    },
    {
      "cell_type": "markdown",
      "metadata": {
        "id": "EE-CuAFkAX9r"
      },
      "source": [
        "#### 1.1.2.1 Addition and subtraction\n",
        "For vectors, addition and subtraction is \"pointwise\" and only works with same-size (dimension) vectors. Pointwise addition between $u = [u_1,u_2, \\cdots,u_n]$ and $v = [v_1,v_2, \\cdots,v_n]$ means the following:\n",
        "$$u + v = [u_1+v_1, u_2+v_2, \\cdots, u_n+v_n]$$\n",
        "Graphically, here's what's going on when you add two vectors together:\n",
        "\n",
        "\n",
        "We can do vector addition/subtraction by using numpy. Specifically, when we run `np.array()` on a list the resulting object works like a vector and handles the rest for us!"
      ]
    },
    {
      "cell_type": "markdown",
      "source": [
        "<img src=\"https://github.com/anyuanay/DSCI521-summer2025/blob/main/week1/uv-addition.gif?raw=true\" />"
      ],
      "metadata": {
        "id": "3v_K6uwWjzws"
      }
    },
    {
      "cell_type": "markdown",
      "metadata": {
        "id": "UkNpESmtAX9s",
        "outputId": "9735e465-82b3-42d0-a5b9-5d448fea264f"
      },
      "source": [
        "```python\n",
        "u = np.array([-5., 3.7, 2., 10., 0.])\n",
        "print(u)\n",
        "\n",
        "v = np.array([9., 2., 4., 8., 1.])\n",
        "print(v)\n",
        "print(u + v)\n",
        "```"
      ]
    },
    {
      "cell_type": "markdown",
      "metadata": {
        "id": "eAtjGLbPAX9s"
      },
      "source": [
        "#### 1.1.2.2 Exercise: vector arithmetic\n",
        "Calculate `A` - `B` for the provided vectors, without using a loop."
      ]
    },
    {
      "cell_type": "markdown",
      "metadata": {
        "id": "sFaEjeLkAX9s"
      },
      "source": [
        "```python\n",
        "A = np.array([i for i in range(5)])\n",
        "B = np.array([-i for i in range(5)])\n",
        "\n",
        "# Answer goes here\n",
        "```"
      ]
    },
    {
      "cell_type": "markdown",
      "metadata": {
        "id": "v0zziyomAX9s"
      },
      "source": [
        "#### 1.1.2.3 Vector norms\n",
        "\n",
        "Some of the most important tools in the linear-algebra toolkit are measures of bigness, or, norms. More precisely and for us in our study of vectors, we can think of a _norm_ as a function that takes a vector as input and outputs a non-negative quantity. Thus, a norm _measures_ a vector, allowing us to define notions of distance, which when \"normalized\" may allow us to, e.g., assess similarities and other relationships between vectors.\n",
        "\n",
        "For a vector $v = [v_1,v_2, \\cdots,v_n]$, its norm (size) is indicated by $\\|v\\|$, and in Euclidean, i.e., striaght-line-distance space, it's computed as:\n",
        "$$\\|v\\| = \\sqrt{v_1^2 + v_2^2 + \\cdots + v_n^2}$$\n",
        "\n",
        "According to the above, in base Python we'd have to square the components of a vector (i.e., squared it pointwise), add them up, and take the square-root to produce its Eucliudean norm. Now that we have a computational framework to perform linerar algebra, norms (like averages) can be processed abstractly with a built-in `numpy` function: `numpy.linalg.norm()` (the default is the euclidean norm). Note: this function also does other norms, like the taxicab norm, which measures distances according to zig-zag pathways."
      ]
    },
    {
      "cell_type": "markdown",
      "metadata": {
        "id": "2b5qUo_uAX9s",
        "outputId": "b4001cae-0065-49b9-d8d0-33de1d4a2ae5"
      },
      "source": [
        "```python\n",
        "v = np.array([9., 2., 4., 8., 1.])\n",
        "print(v)\n",
        "print(np.linalg.norm(v))\n",
        "```"
      ]
    },
    {
      "cell_type": "markdown",
      "source": [
        "#### 1.1.2.4 Scalar multiplication\n",
        "Note: vector multiplication is less straightforward than addition and comes in flavors. We'll go through these, building up in complexity.\n",
        "\n",
        "Scalar multiplication just means multiplying a vector by a constant. So, in this case every single value of a vector is multiplied the usual way by the constant value. If we have a vector $v = [v_1, v_2, \\cdots, v_n]$ and a constant, $c$, their product is $$cv = [cv_1, cv_2, \\cdots, cv_n]$$\n",
        "\n",
        "This is specifically called scalar multiplication because it scales, i.e., grows/shrinks vectors by a constant amount in all directions:\n",
        "\n",
        "<img src=\"https://github.com/anyuanay/DSCI521-summer2025/blob/main/week1/scaledvector.gif?raw=true\" />\n",
        "\n",
        "\n",
        "Scalar multiplication is also super easy when you have a number and a numpy array:"
      ],
      "metadata": {
        "id": "v2T0kskfIDQY"
      }
    },
    {
      "cell_type": "markdown",
      "metadata": {
        "id": "DRNDn5OaAX9s",
        "outputId": "c6cdfa61-8500-4834-c65b-9b7d91faeb0c"
      },
      "source": [
        "```python\n",
        "v = np.array([9., 2., 4., 8., 1.])\n",
        "print(v)\n",
        "\n",
        "c = 3.\n",
        "print(c)\n",
        "print(c * v)\n",
        "```"
      ]
    },
    {
      "cell_type": "markdown",
      "metadata": {
        "id": "uUcrbkd8AX9s"
      },
      "source": [
        "#### 1.1.2.5 Exercise: scalar multiplication\n",
        "Divide each element in the above vector `v` by 4."
      ]
    },
    {
      "cell_type": "markdown",
      "metadata": {
        "id": "GGIjPjhtAX9s"
      },
      "source": [
        "```python\n",
        "# Answer goes here.\n",
        "```"
      ]
    },
    {
      "cell_type": "markdown",
      "metadata": {
        "id": "vZdcK8ByAX9s"
      },
      "source": [
        "#### 1.1.2.6 Pointwise multiplication\n",
        "This is what numpy does with two vectors by default. Here, \"pointwise\" once again means that the first elements are multiplied together, second elements are multiplied together, etc., to produce another vector of the same length. So, pointwise multiplication between $u = [u_1,u_2, \\cdots,u_n]$ and $v = [v_1,v_2, \\cdots,v_n]$ means the following:\n",
        "$$uv = [u_1v_1, u_2v_2, \\cdots, u_nv_n]$$\n",
        "\n",
        "While pointwise products are super useful to us for data handling and come up quite alot, they are not, on their own, particularly intuitively visualizable, and for this mathematical branch, are most often used as a step taken towards a different kind of product that we'll discuss next. However, pointwise products are once again quite easy and useful with numpy:"
      ]
    },
    {
      "cell_type": "markdown",
      "metadata": {
        "id": "dG-PY8yUAX9s",
        "outputId": "e8ef7de0-eb99-4958-afa2-b9c39c6adfff"
      },
      "source": [
        "```python\n",
        "u = np.array([-5., 3.7, 2., 10., 0.])\n",
        "print(u)\n",
        "\n",
        "v = np.array([9., 2., 4., 8., 1.])\n",
        "print(v)\n",
        "print(u * v)\n",
        "```"
      ]
    },
    {
      "cell_type": "markdown",
      "metadata": {
        "id": "ljqgMTcHAX9s"
      },
      "source": [
        "#### 1.1.2.7 Exercise: pointwise vector multiplication\n",
        "Perform pointwise multiplication between `v` divided by 4 which you calculated above, and `u`."
      ]
    },
    {
      "cell_type": "markdown",
      "metadata": {
        "id": "5Ik9PuunAX9t"
      },
      "source": [
        "```python\n",
        "## code here\n",
        "```"
      ]
    },
    {
      "cell_type": "markdown",
      "source": [
        "#### 1.1.2.8 Inner products\n",
        "This is just the sum of a pointwise product. While inner (a.k.a \"dot\") products build off of the pointwise product, they tell us about a lot more. Specifically, when two non-zero vectors have an inner product of $0$, they are orthogonal. Orthogonality is the fancy-math word for perpindicular when you're dealing with more than two dimensions. So, an inner product between $u = [u_1,u_2, \\cdots,u_n]$ and $v = [v_1,v_2, \\cdots,v_n]$ results in the scalar value—not a vector—produced by the following fomula:\n",
        "$$u\\cdot v = u_1v_1+u_2v_2+\\cdots+u_nv_n$$\n",
        "\n",
        "Intuitively, an inner product helps describe the projected length of one vector onto another. In particular, naming $u_v$ and $v_u$ as the projections of $v$ onto $u$ and $u$ onto $v$, respectively, we have:\n",
        "$$u\\cdot v = \\|u_v\\|\\|v\\| = \\|v_u\\|\\|u\\|$$\n",
        "\n",
        "So, when two vectors are a right-angle off of one another, their projections have length zero. Here's a graphical depiction of this intuitive description of an inner product:\n",
        "\n",
        "<img src=\"https://github.com/anyuanay/DSCI521-summer2025/blob/main/week1/projection.gif?raw=true\" />\n",
        "\n",
        "\n",
        "Now, if we want to find the inner product between two vectors, all we have to do is add up their pointwise product:"
      ],
      "metadata": {
        "id": "AyQIqVUVIkIg"
      }
    },
    {
      "cell_type": "markdown",
      "metadata": {
        "id": "yW-yU9sLAX9t",
        "outputId": "bf5e8b0a-e597-4a60-dafe-efc15ce62766"
      },
      "source": [
        "```python\n",
        "u = np.array([-5., 3.7, 2., 10., 0.])\n",
        "print(u)\n",
        "\n",
        "v = np.array([9., 2., 4., 8., 1.])\n",
        "print(v)\n",
        "print(sum(u * v))\n",
        "```"
      ]
    },
    {
      "cell_type": "markdown",
      "metadata": {
        "id": "FvNZNc9zAX9t"
      },
      "source": [
        "However, the numpy way to do this uses the `.dot()` method on an array. Recall: the inner product is also called the dot product."
      ]
    },
    {
      "cell_type": "markdown",
      "metadata": {
        "id": "btzPUg8sAX9t",
        "outputId": "1844842d-6d60-48fe-b195-71883515c2d6"
      },
      "source": [
        "```python\n",
        "u = np.array([-5., 3.7, 2., 10., 0.])\n",
        "print(u)\n",
        "\n",
        "v = np.array([9., 2., 4., 8., 1.])\n",
        "print(v)\n",
        "print(u.dot(v))\n",
        "```"
      ]
    },
    {
      "cell_type": "markdown",
      "metadata": {
        "id": "WvFbU2OiAX9t"
      },
      "source": [
        "#### 1.1.2.9 Exercise: inner products\n",
        "Find the dot product of the provided array `z` with `u` and `v`, respectively, from above."
      ]
    },
    {
      "cell_type": "markdown",
      "metadata": {
        "id": "ZnPB9ZqJAX9t"
      },
      "source": [
        "```python\n",
        "z = np.array([1, 2, 3, 4, 5])\n",
        "## code goes\n",
        "```"
      ]
    },
    {
      "cell_type": "markdown",
      "metadata": {
        "id": "4Lh5LO-iAX9t"
      },
      "source": [
        "#### 1.1.2.10 Example: defining similarity (hence correlation) with vector products\n",
        "\n",
        "Inner product makes it really easy to define distance and similarity, and thus for the statistical world, correlation.\n",
        "\n",
        "In our exploraton of descriptive statistics and exploratory data analysis (__Chapter 3__) we'll spend significant time building up from distance measures to arrive at a balanced data-comparison method called the correlation. Along the way, an important stop is a similarity measure called _cosine similarity_. This takes effort to express in terms of concepts like means and variances, but with our linear algebra formalism at our disposal can express similarity succinctly:\n",
        "$$sim(u,v) = \\frac{u\\cdot v}{\\|u\\|\\|v\\|}$$\n",
        "\n",
        "Moreover, we can compute it quickly using the fancy numpy method `.dot()` (below), and intuit that the relationships entailed by correlation actually have to do with projection (note the dot/inner product above), i.e., the extent to which one vector (of numerical data) points along the direction of another. As we'll discuss in __Chapter 3__, the cosine (it can also be computed trigonometrically) similarity is a number derived from a pair of vectors that ranges over `[-1,1]`, which indicates how related they are: a value close to $0$ indicates little or no relationship exists, while values close to $1$ or $-1$ indicate when vectors positively (point along the same directions) or negatively (point along opposing directions) associate, respectively."
      ]
    },
    {
      "cell_type": "markdown",
      "metadata": {
        "id": "-IkX6piEAX9t",
        "outputId": "9bd87da2-a7d7-41c2-9e59-31c06f39c1d6"
      },
      "source": [
        "```python\n",
        "u = np.array([-5., 3.7, 2., 10., 0.])\n",
        "print(u)\n",
        "\n",
        "v = np.array([9., 2., 4., 8., 1.])\n",
        "print(v)\n",
        "\n",
        "sim = u.dot(v) / (np.linalg.norm(u) * np.linalg.norm(v))\n",
        "print(sim)\n",
        "```"
      ]
    },
    {
      "cell_type": "markdown",
      "metadata": {
        "id": "x6E0dJ-3AX9t"
      },
      "source": [
        "#### 1.1.2.11 Exercise: cosine similarity\n",
        "Find the cosine similarity of the vectors `a` and `b`."
      ]
    },
    {
      "cell_type": "markdown",
      "metadata": {
        "id": "Nu3eLzlkAX9u"
      },
      "source": [
        "```python\n",
        "a = np.array([1, 0, 0])\n",
        "b = np.array([0, 1, 0])\n",
        "\n",
        "# Answer goes here\n",
        "```"
      ]
    },
    {
      "cell_type": "markdown",
      "metadata": {
        "id": "cniNDfyeAX9u"
      },
      "source": [
        "### 1.1.3 Matrices\n",
        "\n",
        "If it helps to think about vectors as the rows and columns of a spreadsheet, then think of the whole spreadsheet as a matrix—a collection of vectors (i.e., rows or columns) of the same length. More generally, a matrix is a two-dimensional ordered-array of numbers:\n",
        "\n",
        " $$ A = \\begin{bmatrix} a_{1,1} & a_{1,2} & \\dots & a_{1,n} \\\\ a_{2,1} & a_{2,2} & \\dots & a_{2,n} \\\\ \\vdots & \\vdots & \\ddots & \\vdots \\\\ a_{m,1} & a_{m,2} & \\dots & a_{m,n} \\end{bmatrix} $$\n",
        "\n",
        "\n",
        "While we could take a list of equal-length lists of numbers as a basic way to represet matrices in Python, numpy has already built in some very nice object types for working with matrices and performing matrix operations. Since there are now two dimensions of data inside of a a matrix it helps to get a bit of notation straight: when describing the numbers of rows and columns in a matrix it is conventional to list these numbers as row-by-column. So, an $m \\times n$ matrix, $A$, has $m$ rows and $n$ columns. Likewise, when indexing to indicate the individual elements of an $A$ it is customary to indicate the row position first, followed by the column position. So, the element $a_{i,j}$ refers to the number in the $i^\\text{th}$ row and $j^\\text{th}$ column of $A$.\n",
        "\n",
        "#### 1.1.3.1 Casting matrices with `numpy.array()`\n",
        "We can define matrices easily in numpy by using `numpy.array()` on lists of same-length lists:"
      ]
    },
    {
      "cell_type": "markdown",
      "metadata": {
        "id": "g0F23IKSAX9u",
        "outputId": "ef3f6294-1609-4919-f53f-f240eb42cc98"
      },
      "source": [
        "```python\n",
        "## define a 4-row by 3-column matrix\n",
        "A = np.array([\n",
        "    [1, 2, 3],\n",
        "    [4, 5, 6],\n",
        "    [7, 8, 9],\n",
        "    [10, 11, 12]\n",
        "])\n",
        "\n",
        "print(A)\n",
        "```"
      ]
    },
    {
      "cell_type": "markdown",
      "metadata": {
        "id": "yfaSW6NtAX9u"
      },
      "source": [
        "#### 1.1.3.2 (2-d) Matrix indexing\n",
        "Numpy still uses python 0-indexing, but matrices take two indices to access individual elements. In line with the discussion in __Section 1.1.2__, this is row-by-column:"
      ]
    },
    {
      "cell_type": "markdown",
      "metadata": {
        "id": "sp8bWyHNAX9u",
        "outputId": "b1888f74-f688-4103-b9d2-55dc045ea8dc"
      },
      "source": [
        "```python\n",
        "## define a 4-row by 3-column matrix\n",
        "A = np.array([\n",
        "    [ 1,  2,  3],\n",
        "    [ 4,  5,  6],\n",
        "    [ 7,  8,  9],\n",
        "    [10, 11, 12]\n",
        "])\n",
        "\n",
        "print(A)\n",
        "\n",
        "## pull out the value in row 2, column 3\n",
        "print(A[1, 2])\n",
        "```"
      ]
    },
    {
      "cell_type": "markdown",
      "metadata": {
        "id": "2IyNw7osAX9u"
      },
      "source": [
        "#### 1.1.3.3 Exercise: Matrix indexing\n",
        "Print the value in the above matrix `A` located in the bottom-right entry."
      ]
    },
    {
      "cell_type": "markdown",
      "metadata": {
        "id": "QGl09utuAX9u",
        "outputId": "2b8f3a26-f955-44d4-86ab-92800b28c6ea"
      },
      "source": [
        "```python\n",
        "# Answer goes here.\n",
        "print(A[3,2], A[-1,-1])\n",
        "```"
      ]
    },
    {
      "cell_type": "markdown",
      "metadata": {
        "id": "xpR59BZWAX9u"
      },
      "source": [
        "#### 1.1.3.4 Transposition\n",
        "In line with matrices' (2-d `array`'s) alignment to their mathematical construct, they have built-in function for _transposition_, which switches rows and columns:\n",
        "\n",
        "$$ A^T = \\begin{bmatrix} a_{1,1} & a_{2,1} & \\dots & a_{m,1} \\\\ a_{1,2} & a_{2,2} & \\dots & a_{m,2} \\\\ \\vdots & \\vdots & \\ddots & \\vdots \\\\ a_{1,n} & a_{2,n} & \\dots & a_{m,n} \\end{bmatrix} $$\n",
        "\n",
        "So, not only can one take the above (cast with `np.array()`) and transpose it by running `A.transpose()`, but it can otherwise be performed easily by the module on external objects (like lists of lists), using `np.transpose()`:"
      ]
    },
    {
      "cell_type": "markdown",
      "metadata": {
        "id": "4KTEPGXvAX9u",
        "outputId": "0cd001fa-3ec0-4f61-8eee-7520be247597"
      },
      "source": [
        "```python\n",
        "## define a 4-row by 3-column matrix\n",
        "A = np.array([\n",
        "    [1, 2, 3],\n",
        "    [4, 5, 6],\n",
        "    [7, 8, 9],\n",
        "    [10, 11, 12]\n",
        "])\n",
        "\n",
        "## take the matrix transpose\n",
        "print(np.transpose(A))\n",
        "print()\n",
        "print(A.transpose())\n",
        "```"
      ]
    },
    {
      "cell_type": "markdown",
      "metadata": {
        "id": "H2ZD1R9cAX9u"
      },
      "source": [
        "### 1.1.4 Matrix arithmetic\n",
        "Like vectors, matrices have their own arithmetic and it is largely an extension or generalization of what is done for vectors. Numpy likewise has lots of good built-in functionality for this.\n",
        "\n",
        "#### 1.1.4.1 Addition & Subtraction\n",
        "For two same-dimension matrices, addition is once again pointwise, but now according to row-column, i.e., $i,j$-position:\n",
        "\n",
        "$$ A + B = \\begin{bmatrix} a_{1,1} + b_{1,1} & a_{1,2} + b_{1,2} & \\dots & a_{1,n} + b_{1,n} \\\\ a_{2,1} + b_{2,1} & a_{2,2} + b_{2,2} & \\dots & a_{2,n} + b_{2,n} \\\\ \\vdots & \\vdots & \\ddots & \\vdots \\\\ a_{m,1} + b_{m,1} & a_{m,2} + b_{m,2} & \\dots & a_{m,n} + b_{m,n} \\end{bmatrix} $$\n",
        "\n",
        "As it turns out, this is precisely what numpy does by default when you add two arrays:"
      ]
    },
    {
      "cell_type": "markdown",
      "metadata": {
        "id": "jb1MU4yOAX9u",
        "outputId": "f202e686-e86c-478d-9764-32e9d4d68538"
      },
      "source": [
        "```python\n",
        "## define a 4-row by 3-column matrix\n",
        "A = np.array([\n",
        "    [ 1,  2,  3],\n",
        "    [ 4,  5,  6],\n",
        "    [ 7,  8,  9],\n",
        "    [10, 11, 12]\n",
        "])\n",
        "\n",
        "print(A, '\\n')\n",
        "\n",
        "## define another 4-row by 3-column matrix\n",
        "B = np.array([\n",
        "    [ 11,  12,  13],\n",
        "    [ 14,  15,  16],\n",
        "    [ 17,  18,  19],\n",
        "    [ 20,  21,  22]\n",
        "])\n",
        "\n",
        "print(B, '\\n')\n",
        "\n",
        "## take the matrix sum of the two\n",
        "print(A + B)\n",
        "```"
      ]
    },
    {
      "cell_type": "markdown",
      "metadata": {
        "id": "EVMUIxS-AX9u"
      },
      "source": [
        "#### 1.1.4.2 Exercise: matrix addition\n",
        "Using `A` and `B` from above, find the sum `A` + `B` + `A`."
      ]
    },
    {
      "cell_type": "markdown",
      "metadata": {
        "id": "guIW9Z7nAX9v",
        "outputId": "4c0bb337-5f0a-41c0-bdc5-33588e517cd7"
      },
      "source": [
        "```python\n",
        "# Answer goes here.\n",
        "print(A + B + A)\n",
        "print(2*A + B)\n",
        "```"
      ]
    },
    {
      "cell_type": "markdown",
      "metadata": {
        "id": "kXR9FDajAX9v"
      },
      "source": [
        "#### 1.1.4.3 Scalar matrix multiplication\n",
        "As with vectors, multiplication comes in multiple different flavors, and just like matrices make things more complicated, their multiplication is more complicated, too. However, like with vectors we'll start with the simplest forms possible and build up to what we need.\n",
        "\n",
        "Multiplication by a scalar just multiplies every element. So, if we take an $m \\times n$ matrix $A$ and multiple it by a scalar (constant), $c$, we just get a $c$-grown or -shrunk version of the same:\n",
        "$$ cA = \\begin{bmatrix} ca_{1,1} & ca_{1,2} & \\dots & ca_{1,n} \\\\ ca_{2,1} & ca_{2,2} & \\dots & ca_{2,n} \\\\ \\vdots & \\vdots & \\ddots & \\vdots \\\\ ca_{m,1} & ca_{m,2} & \\dots & ca_{m,n} \\end{bmatrix} $$\n",
        "\n",
        "This is likewise what numpy does with scalars and matrices by default:"
      ]
    },
    {
      "cell_type": "markdown",
      "metadata": {
        "id": "YBsg2Mo8AX9v",
        "outputId": "ace7b982-d389-4d58-d08c-a0fcf7f385a1"
      },
      "source": [
        "```python\n",
        "## define a 4-row by 3-column matrix\n",
        "A = np.array([\n",
        "    [ 1,  2,  3],\n",
        "    [ 4,  5,  6],\n",
        "    [ 7,  8,  9],\n",
        "    [10, 11, 12]\n",
        "])\n",
        "\n",
        "print(A, '\\n')\n",
        "\n",
        "## define a constant\n",
        "c = 10\n",
        "\n",
        "## take the matrix sum of the two\n",
        "print(c * A)\n",
        "\n",
        "\n",
        "```"
      ]
    },
    {
      "cell_type": "markdown",
      "metadata": {
        "id": "BLuN_mqyAX9v"
      },
      "source": [
        "#### 1.1.4.4 Exercise: Scalar matrix multiplication\n",
        "Divide each element in the above matrix `A` by 4."
      ]
    },
    {
      "cell_type": "markdown",
      "metadata": {
        "id": "B2nfWU3bAX9v"
      },
      "source": [
        "```python\n",
        "# Answer goes here.\n",
        "```"
      ]
    },
    {
      "cell_type": "markdown",
      "metadata": {
        "id": "qdIS_pE4AX9v"
      },
      "source": [
        "#### 1.1.4.5 Pointwise multiplication\n",
        "This requires same-dimension matrices. But just like other pointwise operations, this kind of multiplication is straightforward and can be performed just with the usual `*`, i.e., times operator in Python:"
      ]
    },
    {
      "cell_type": "markdown",
      "metadata": {
        "id": "AbYNlvuFAX9v",
        "outputId": "877ec251-b1c4-46ba-c02b-9b32c5dd792b"
      },
      "source": [
        "```python\n",
        "## define a 4-row by 3-column matrix\n",
        "A = np.array([\n",
        "    [ 1,  2,  3],\n",
        "    [ 4,  5,  6],\n",
        "    [ 7,  8,  9],\n",
        "    [10, 11, 12]\n",
        "])\n",
        "\n",
        "print(A, '\\n')\n",
        "\n",
        "## define another 4-row by 3-column matrix\n",
        "B = np.array([\n",
        "    [ 11,  12,  13],\n",
        "    [ 14,  15,  16],\n",
        "    [ 17,  18,  19],\n",
        "    [ 20,  21,  22]\n",
        "])\n",
        "\n",
        "print(B, '\\n')\n",
        "\n",
        "## take the pointwise matrix product of the two\n",
        "print(A * B)\n",
        "\n",
        "\n",
        "```"
      ]
    },
    {
      "cell_type": "markdown",
      "metadata": {
        "id": "0PhEZIMKAX9v"
      },
      "source": [
        "#### 1.1.4.6 Inner products of matrices and vectors\n",
        "Here's the deal: a matrix times a vector equals another vector. But to multiply a matrix by a vector there is one major stipulation: if $A$ is an $m \\times n$ matrix then you can only multiply $A$ times a vector, $v$, as $A\\cdot v$ if $v$ is an $n \\times 1$ column vector. The result is then an $m \\times 1$ vector, which is once again called the _inner product_. Why? Because this is a _generalization of the inner product for vectors_. It works as follows:\n",
        "\n",
        "$$ \\begin{align} A\\cdot v & = \\begin{bmatrix} a_{1,1} & a_{1,2} & \\dots & a_{1,n} \\\\ a_{2,1} & a_{2,2} & \\dots & a_{2,n} \\\\ \\vdots & \\vdots & \\ddots & \\vdots \\\\ a_{m,1} & a_{m,2} & \\dots & a_{m,n} \\end{bmatrix} \\cdot \\begin{bmatrix} v_{1} \\\\ v_{2} \\\\ \\vdots \\\\ v_{n} \\end{bmatrix}\\\\\\\\ & = \\begin{bmatrix} a_{1,1}v_{1} + a_{1,2}v_{2} + \\cdots + a_{1,n}v_{n} \\\\ a_{2,1}v_{1} + a_{2,2}v_{2} + \\cdots + a_{2,n}v_{n} \\\\ \\vdots \\\\ a_{m,1}v_{1} + a_{m,2}v_{2} + \\cdots + a_{m,n}v_{n} \\end{bmatrix} \\end{align} $$\n",
        "\n",
        "Taking the inner product of a matrix and a vector like this is once again as straight forward as using the `.dot()` array method, specifically in the order: `A.dot(v)`"
      ]
    },
    {
      "cell_type": "markdown",
      "metadata": {
        "id": "7vRKv6jFAX9v",
        "outputId": "67aa0f5b-082e-4097-85da-29e5fc7c77c4"
      },
      "source": [
        "```python\n",
        "## define a 4-row by 3-column matrix\n",
        "A = np.array([\n",
        "    [ 1,  2,  3],\n",
        "    [ 4,  5,  6],\n",
        "    [ 7,  8,  9],\n",
        "    [10, 11, 12]\n",
        "])\n",
        "\n",
        "print(A, '\\n')\n",
        "\n",
        "## define a (3 x 1) vector\n",
        "v = np.array([\n",
        "    [10],\n",
        "    [100],\n",
        "    [1000]\n",
        "])\n",
        "\n",
        "## take the inner product: Av\n",
        "print(A.dot(v), '\\n')\n",
        "\n",
        "print(A.shape, v.shape)\n",
        "\n",
        "## note: numpy is forgiving, and will allow you\n",
        "## to multiply our matrix by a (1 x 3) vector, too\n",
        "v = np.array([10, 100, 1000])\n",
        "\n",
        "## take the inner product: Av\n",
        "print(A.dot(v))\n",
        "\n",
        "print(A.shape, v.shape)\n",
        "```"
      ]
    },
    {
      "cell_type": "markdown",
      "metadata": {
        "id": "cluakfkwAX9v"
      },
      "source": [
        "#### 1.1.4.7 Inner products of matrices\n",
        "Okay, to be totally honest _this_ is the real generalization of inner products, that's all. Matrix multiplication is a lot of book keeping, so to speak, but if you were to go out and do this stuff by hand (i.e., take a linear algebra class) you'll find out pretty quickly that 1) matrix-by-matrix multiplication is just repeated matrix-by-vector multiplication, which in turn is just 2) repeated vector-by-vector _inner products_. So, this is, once again, generalizing the concept of an inner product. At a high level, think of the 2-matrix inner product as matrix times matrix equals another matrix.\n",
        "\n",
        "Once again, this is a matrix-matrix generalization of the inner product. Each column vector on the right is multiplied the same way as above to produce its own ouput column vector of rows. Just like with matrix times vector, there's an inner-dimension compatibility rule: the inner product, $A\\cdot B$, of two matrices, $A$, an ($\\ell \\times m$) matrix and $B$, an ($m \\times n$) matrix, exists when they have the same inner dimension, i.e., if $A$ has $m$ columns then $B$ must have $m$ rows. As it turns out, this common inner dimension collapses, with the result being a matrix of dimensions provided by the outer dimensions of the input matrices: ($\\ell \\times n$). The nicest way to think of this is probably as dot products of the row vectors on the left with column vectors on the right:\n",
        "\n",
        "\n",
        "Looking at it this way, left-rows and right-columns triangulate the output values of the product. For brevity, we won't present a full formula here, and like usual we can just use the `.dot()` numpy method from one array onto another to execute this computationally:"
      ]
    },
    {
      "cell_type": "markdown",
      "source": [
        "<img src=\"https://github.com/anyuanay/DSCI521-summer2025/blob/main/week1/matrix_mult.png?raw=true\" />"
      ],
      "metadata": {
        "id": "pitf2WXPJhQV"
      }
    },
    {
      "cell_type": "markdown",
      "metadata": {
        "id": "Ii2OFxuOAX9v",
        "outputId": "ec15b718-7080-4156-f941-8e0e05b100d3"
      },
      "source": [
        "```python\n",
        "## define a 4-row by 3-column matrix\n",
        "A = np.array([\n",
        "    [ 1,  2,  3],\n",
        "    [ 4,  5,  6],\n",
        "    [ 7,  8,  9],\n",
        "    [10, 11, 12]\n",
        "])\n",
        "\n",
        "print(A, '\\n')\n",
        "\n",
        "## define a 3-row by 2-column matrix\n",
        "B = np.array([\n",
        "    [ 11,  12],\n",
        "    [ 13,  14],\n",
        "    [ 15,  16],\n",
        "])\n",
        "\n",
        "print(B, '\\n')\n",
        "\n",
        "print(A.shape, B.shape, \"\\n\")\n",
        "\n",
        "## take the inner matrix product\n",
        "## which results in a 4 x 2 matrix\n",
        "print(A.dot(B))\n",
        "```"
      ]
    },
    {
      "cell_type": "markdown",
      "metadata": {
        "id": "2l8x3NteAX9w"
      },
      "source": [
        "#### 1.1.4.8 Eigenvectors and Eigenvalues\n",
        "While there's a lot of depth in this discussion that we'll have to avoid, the topic of eigenvectors is essential when thinking of linear algebra and matrices as modeling tools. The important concept with eigenvectors that we want to discuss has to do with matrix-times vector multiplication. Recall: an $(m \\times n)$ matrix $A$ times an $(n \\times 1)$ vector $v$ results in another vector, having dimension $(m \\times 1)$. So what if $m = n$, i.e., the matrix $A$ is _square_? Well, then we could take the result and multiply it by $A$ again! This is one of the things that eigenvectors are all about:\n",
        "\n",
        "+ if $A$ is an $(n \\times n)$ matrix and $v$ is an eigenvector of $A$, then for some non-zero scalar (constant), $\\lambda$:\n",
        "     \n",
        "$$A\\cdot v = \\lambda v$$\n",
        "\n",
        "$\\lambda$ is called the eigenvector's _eigenvalue_. In other words, matrix-times-eigenvector returns a vector that points in the same exact direction as the original eigenvector. You can keep multiplying the result by $A$ and get back scalings, i.e., growing/shrinking of the same vector. Later on, when we get into our discussion of networks we'll get to see how Google used this eigenvector concept this to build their PageRank algorithm, which truly enabled them to take over the web search market.\n",
        "\n",
        "So, how do you find these magical eigenvectors? That's a bit more of a tricky problem, and as it turns out a matrix has $n$ eigenvectors (they may just not all be real). However, since we're not going to be worrying about doing linear algebra by hand, we won't get into it here. Instead, let's just look at what comes for free with numpy via `numpy.linalg.eig()`:"
      ]
    },
    {
      "cell_type": "markdown",
      "metadata": {
        "id": "Q7QdklAGAX9w",
        "outputId": "47e577f5-50c5-4c87-b826-e361d5034bd0"
      },
      "source": [
        "```python\n",
        "## define a 2-row by 2-column matrix\n",
        "A = np.array([\n",
        "    [ 1,  2],\n",
        "    [ 4,  5]\n",
        "])\n",
        "\n",
        "print(A, '\\n')\n",
        "\n",
        "e_vals, e_vecs = np.linalg.eig(A)\n",
        "\n",
        "## the list of eigenvalues\n",
        "print(e_vals, '\\n')\n",
        "\n",
        "## the columns are our eigenvectors\n",
        "print(e_vecs, '\\n')\n",
        "\n",
        "## multiplying A by a column and dividing by\n",
        "## its eigenvalue results in the exact same column/eigenvector\n",
        "print(A.dot(e_vecs[:, 0]) / e_vals[0])\n",
        "```"
      ]
    },
    {
      "cell_type": "markdown",
      "metadata": {
        "id": "emOVHDbEAX9w"
      },
      "source": [
        "#### 1.1.4.9 But what do eigenvectors and eigenvalues mean, intuitively?\n",
        "Geometrically, eigenvectors tell you the directions along which your data spread out. This means we can use eigenvectors to tell us about the variation present in a spreadsheet of data, i.e., about how columns and rows of data covary. So, if each point in a data set is a row, represented by two variable columns, we would be able to use eigenvectors to show us something like:\n"
      ]
    },
    {
      "cell_type": "markdown",
      "source": [
        "<img src=\"https://github.com/anyuanay/DSCI521-summer2025/blob/main/week1/eigenvectors.png?raw=true\" />"
      ],
      "metadata": {
        "id": "dDUnO691Jp4S"
      }
    },
    {
      "cell_type": "markdown",
      "source": [],
      "metadata": {
        "id": "dtuyxcyokomC"
      }
    },
    {
      "cell_type": "markdown",
      "metadata": {
        "id": "ai6hClRMAX9w"
      },
      "source": [
        "```python\n",
        "\n",
        "```"
      ]
    },
    {
      "cell_type": "markdown",
      "source": [
        "```python\n",
        "\n",
        "```"
      ],
      "metadata": {
        "id": "HFA0q4N-jIN4"
      }
    },
    {
      "cell_type": "markdown",
      "source": [
        "```python\n",
        "\n",
        "```"
      ],
      "metadata": {
        "id": "3UeEBay5jNIB"
      }
    }
  ],
  "metadata": {
    "kernelspec": {
      "display_name": "Python 3",
      "language": "python",
      "name": "python3"
    },
    "language_info": {
      "codemirror_mode": {
        "name": "ipython",
        "version": 3
      },
      "file_extension": ".py",
      "mimetype": "text/x-python",
      "name": "python",
      "nbconvert_exporter": "python",
      "pygments_lexer": "ipython3",
      "version": "3.7.3"
    },
    "colab": {
      "provenance": [],
      "include_colab_link": true
    }
  },
  "nbformat": 4,
  "nbformat_minor": 0
}